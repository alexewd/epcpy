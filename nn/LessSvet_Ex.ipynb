{
 "cells": [
  {
   "cell_type": "code",
   "execution_count": null,
   "metadata": {},
   "outputs": [],
   "source": [
    "Есть список a = [1, 1, 2, 3, 5, 8, 13, 21, 34, 55, 89].\n",
    "\n",
    "Выведите все элементы, которые меньше 5.\n",
    "\n",
    "Вариант решения\n",
    "Самый простой вариант, который первым приходит на ум — использовать цикл for:\n",
    "\n",
    "for elem in a:\n",
    "    if elem < 5:\n",
    "        print(elem)\n",
    "Также можно воспользоваться функцией filter, которая фильтрует элементы согласно заданному условию:\n",
    "\n",
    "print(list(filter(lambda elem: elem < 5, a)))\n",
    "И, вероятно, наиболее предпочтительный вариант решения этой задачи — списковое включение:\n",
    "\n",
    "print([elem for elem in a if elem < 5])"
   ]
  },
  {
   "cell_type": "code",
   "execution_count": null,
   "metadata": {},
   "outputs": [],
   "source": [
    "Даны списки:\n",
    "\n",
    "a = [1, 1, 2, 3, 5, 8, 13, 21, 34, 55, 89];\n",
    "\n",
    "b = [1, 2, 3, 4, 5, 6, 7, 8, 9, 10, 11, 12, 13].\n",
    "\n",
    "Нужно вернуть список, который состоит из элементов, общих для этих двух списков.\n",
    "\n",
    "Вариант решения\n",
    "И снова мы можем воспользоваться циклом for:\n",
    "\n",
    "result = []\n",
    "for elem in a:\n",
    "    if elem in b:\n",
    "        result.append(elem)\n",
    "Или функцией filter:\n",
    "\n",
    "result = list(filter(lambda elem: elem in b, a))\n",
    "Или списковым включением:\n",
    "\n",
    "result = [elem for elem in a if elem in b]\n",
    "\n",
    "А можно привести оба списка к множествам и найти их пересечение:\n",
    "\n",
    "result = list(set(a) & set(b))\n",
    "\n",
    "Однако в таком случае каждый элемент встретится в результирующем списке лишь один раз,\n",
    "т.к. множество поддерживает уникальность входящих в него элементов.\n",
    "Первые два решения (с фильтрацией) оставят все дубли на своих местах."
   ]
  },
  {
   "cell_type": "code",
   "execution_count": null,
   "metadata": {},
   "outputs": [],
   "source": [
    "Отсортируйте словарь по значению в порядке возрастания и убывания.\n",
    "\n",
    "Вариант решения\n",
    "Импортируем нужный модуль и объявляем словарь:\n",
    "\n",
    "import operator\n",
    "d = {1: 2, 3: 4, 4: 3, 2: 1, 0: 0}\n",
    "Сортируем в порядке возрастания:\n",
    "\n",
    "result = dict(sorted(d.items(), key=operator.itemgetter(1)))\n",
    "И в порядке убывания:\n",
    "\n",
    "result = dict(sorted(d.items(), key=operator.itemgetter(1), reverse=True))"
   ]
  },
  {
   "cell_type": "code",
   "execution_count": null,
   "metadata": {},
   "outputs": [],
   "source": [
    "Найдите три ключа с самыми высокими значениями в словаре my_dict = {'a':500, 'b':5874, 'c': 560,'d':400, 'e':5874, 'f': 20}.\n",
    "\n",
    "Вариант решения\n",
    "Можно воспользоваться функцией sorted:\n",
    "\n",
    "result = sorted(my_dict, key=my_dict.get, reverse=True)[:3]\n",
    "Аналогичный результат можно получить с помощью функции nlargest из модуля heapq:\n",
    "\n",
    "from heapq import nlargest\n",
    "result = nlargest(3, my_dict, key=my_dict.get)"
   ]
  },
  {
   "cell_type": "code",
   "execution_count": null,
   "metadata": {},
   "outputs": [],
   "source": [
    "Напишите код, который переводит целое число в строку, при том что его можно применить в любой системе счисления.\n",
    "\n",
    "Вариант решения\n",
    "Второй аргумент функции int отвечает за указание основания системы счисления:\n",
    "\n",
    "print(int('ABC', 16))"
   ]
  },
  {
   "cell_type": "code",
   "execution_count": null,
   "metadata": {},
   "outputs": [],
   "source": [
    "Напишите проверку на то, является ли строка палиндромом. Палиндром — это слово или фраза, которые одинаково читаются слева направо и справа налево.\n",
    "\n",
    "Вариант решения\n",
    "Тут всё просто, достаточно сравнить строку с её обратной версией, для чего можно использовать встроенную функцию reversed:\n",
    "\n",
    "def is_palindrome(string):\n",
    "    return string == ''.join(reversed(string))\n",
    "\n",
    "print(is_palindrome('abba'))\n",
    "Того же эффекта можно добиться с помощью срезов:\n",
    "\n",
    "def is_palindrome(string):\n",
    "    return string == string[::-1]\n",
    "\n",
    "print(is_palindrome('abba'))"
   ]
  },
  {
   "cell_type": "code",
   "execution_count": null,
   "metadata": {},
   "outputs": [],
   "source": [
    "Сделайте так, чтобы число секунд отображалось в виде дни:часы:минуты:секунды.\n",
    "\n",
    "Вариант решения\n",
    "def convert(seconds):\n",
    "    days = seconds // (24 * 3600)\n",
    "    seconds %= 24 * 3600\n",
    "    hours = seconds // 3600\n",
    "    seconds %= 3600\n",
    "    minutes = seconds // 60\n",
    "    seconds %= 60\n",
    "    print(f'{days}:{hours}:{minutes}:{seconds}')\n",
    "\n",
    "convert(1234565)"
   ]
  },
  {
   "cell_type": "code",
   "execution_count": null,
   "metadata": {},
   "outputs": [],
   "source": [
    "Напишите программу, которая принимает имя файла и выводит его расширение. Если расширение у файла определить невозможно, выбросите исключение.\n",
    "\n",
    "Вариант решения\n",
    "def get_extension(filename):\n",
    "    filename_parts = filename.split('.')\n",
    "    if len(filename_parts) < 2:  # filename has no dots\n",
    "        raise ValueError('the file has no extension')\n",
    "    first, *middle, last = filename_parts\n",
    "    if not last or not first and not middle:\n",
    "        # example filenames: .filename, filename., file.name.\n",
    "        raise ValueError('the file has no extension')\n",
    "    return filename_parts[-1]\n",
    "\n",
    "print(get_extension('abc.py'))\n",
    "print(get_extension('abc'))  # raises ValueError\n",
    "print(get_extension('.abc'))   # raises ValueError\n",
    "print(get_extension('.abc.def.'))   # raises ValueError"
   ]
  },
  {
   "cell_type": "code",
   "execution_count": null,
   "metadata": {},
   "outputs": [],
   "source": [
    "Напишите программу, которая выводит чётные числа из заданного списка\n",
    "и останавливается, если встречает число 237.\n",
    "\n",
    "Вариант решения\n",
    "numbers = [    \n",
    "    386, 462, 47, 418, 907, 344, 236, 375, 823, 566, 597, 978, 328, 615, 953, 345, \n",
    "    399, 162, 758, 219, 918, 237, 412, 566, 826, 248, 866, 950, 626, 949, 687, 217, \n",
    "]\n",
    "\n",
    "for x in numbers:\n",
    "    if x == 237:\n",
    "        break\n",
    "    elif x % 2 == 0:\n",
    "        print(x)"
   ]
  },
  {
   "cell_type": "code",
   "execution_count": null,
   "metadata": {},
   "outputs": [],
   "source": [
    "Напишите программу, которая принимает два списка и выводит все элементы первого, которых нет во втором.\n",
    "\n",
    "Вариант решения\n",
    "set_1 = set(['White', 'Black', 'Red'])\n",
    "set_2 = set(['Red', 'Green'])\n",
    "\n",
    "print(set_1 - set_2)"
   ]
  },
  {
   "cell_type": "code",
   "execution_count": null,
   "metadata": {},
   "outputs": [],
   "source": []
  },
  {
   "cell_type": "code",
   "execution_count": null,
   "metadata": {},
   "outputs": [],
   "source": []
  },
  {
   "cell_type": "code",
   "execution_count": null,
   "metadata": {},
   "outputs": [],
   "source": []
  },
  {
   "cell_type": "code",
   "execution_count": null,
   "metadata": {},
   "outputs": [],
   "source": []
  },
  {
   "cell_type": "code",
   "execution_count": null,
   "metadata": {},
   "outputs": [],
   "source": []
  }
 ],
 "metadata": {
  "kernelspec": {
   "display_name": "Python 3",
   "language": "python",
   "name": "python3"
  },
  "language_info": {
   "codemirror_mode": {
    "name": "ipython",
    "version": 3
   },
   "file_extension": ".py",
   "mimetype": "text/x-python",
   "name": "python",
   "nbconvert_exporter": "python",
   "pygments_lexer": "ipython3",
   "version": "3.7.1"
  }
 },
 "nbformat": 4,
 "nbformat_minor": 4
}
