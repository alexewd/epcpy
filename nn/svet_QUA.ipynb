{
 "cells": [
  {
   "cell_type": "code",
   "execution_count": null,
   "metadata": {},
   "outputs": [],
   "source": [
    "new_str6 = 'abdgdh+kf-0dhd5j5+0+78hf-+06454h+0jfj-0KK+-0'"
   ]
  },
  {
   "cell_type": "code",
   "execution_count": 2,
   "metadata": {},
   "outputs": [
    {
     "name": "stdout",
     "output_type": "stream",
     "text": [
      "6\n",
      "10\n"
     ]
    }
   ],
   "source": [
    "new_str6 = 'abdgdh+kf-0dhd5j5+0+78hf-+06454h+0jfj-0KK+-0'\n",
    "print(new_str6.count('+'))\n",
    "print(new_str6.count('-') + new_str6.count('+'))"
   ]
  },
  {
   "cell_type": "code",
   "execution_count": 19,
   "metadata": {},
   "outputs": [
    {
     "name": "stdout",
     "output_type": "stream",
     "text": [
      "9\n",
      "17\n",
      "25\n",
      "32\n",
      "37\n",
      "42\n",
      "6\n"
     ]
    }
   ],
   "source": [
    "# Дана строка. Определите общее количество символов '+' и '-' в ней.\n",
    "# А так же сколько таких символов, после которых следует цифра ноль.\n",
    "\n",
    "s = 'abdgdh+kf-0dhd5j5+0+78hf-+06454h+0jfj-0KK+-0'\n",
    "ns = []\n",
    "ind = 0\n",
    "for ind,i in enumerate(s):    \n",
    "    if i == '0':\n",
    "        ns.append(i)\n",
    "        print(ind-1)\n",
    "        \n",
    "print(s.count('0'))       "
   ]
  },
  {
   "cell_type": "code",
   "execution_count": 16,
   "metadata": {},
   "outputs": [
    {
     "name": "stdout",
     "output_type": "stream",
     "text": [
      "2\n",
      "14\n",
      "16\n",
      "19\n",
      "21\n"
     ]
    }
   ],
   "source": [
    "new_str4 = 'adpbn67k0gfdnlpupatpep'\n",
    "lt = 'p'\n",
    "for i, symb in enumerate(new_str4):\n",
    "    if symb == lt:\n",
    "        print(i)"
   ]
  },
  {
   "cell_type": "code",
   "execution_count": null,
   "metadata": {},
   "outputs": [],
   "source": [
    "lambda"
   ]
  }
 ],
 "metadata": {
  "kernelspec": {
   "display_name": "Python 3",
   "language": "python",
   "name": "python3"
  },
  "language_info": {
   "codemirror_mode": {
    "name": "ipython",
    "version": 3
   },
   "file_extension": ".py",
   "mimetype": "text/x-python",
   "name": "python",
   "nbconvert_exporter": "python",
   "pygments_lexer": "ipython3",
   "version": "3.7.4"
  }
 },
 "nbformat": 4,
 "nbformat_minor": 2
}
