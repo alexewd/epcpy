{
 "cells": [
  {
   "cell_type": "code",
   "execution_count": 13,
   "metadata": {},
   "outputs": [],
   "source": [
    "# library(tidyr)\n",
    "# library(dplyr)\n",
    "# library(readr)"
   ]
  },
  {
   "cell_type": "code",
   "execution_count": 25,
   "metadata": {},
   "outputs": [
    {
     "data": {
      "image/png": "[encoded data removed]",
      "text/plain": [
       "plot without title"
      ]
     },
     "metadata": {},
     "output_type": "display_data"
    }
   ],
   "source": [
    "library(tidyverse)\n",
    "library(tidyr)\n",
    "# use seq(.01, 1, .01) to generate a sequence from .01 to 1 in .01 increments\n",
    "likelihood <- dbinom(x = 14, size = 100, prob = seq(.01, 1, .01))\n",
    "\n",
    "# creating a data frame with 'likelihood' for plotting\n",
    "df <- data.frame(theta = seq(.01, 1, .01),\n",
    "                 likelihood)\n",
    "\n",
    "# create the plot\n",
    "ggplot(df, aes(x = theta, y = likelihood)) +\n",
    "  geom_line(size = 1) +\n",
    "  geom_vline(xintercept = .14, size = 1.25, color = \"red\", linetype = 2) +\n",
    "  scale_x_continuous(breaks = seq(0, 1, by = .10)) +\n",
    "  theme_minimal(base_size = 14) +\n",
    "  theme(axis.text.y = element_blank(),\n",
    "        axis.ticks.y = element_blank(),\n",
    "        panel.grid.major.y = element_blank(),\n",
    "        panel.grid.minor.y = element_blank(),\n",
    "        plot.title = element_text(hjust = .5, size = 20))"
   ]
  },
  {
   "cell_type": "code",
   "execution_count": 26,
   "metadata": {},
   "outputs": [
    {
     "data": {
      "image/png": "[encoded data removed]",
      "text/plain": [
       "plot without title"
      ]
     },
     "metadata": {},
     "output_type": "display_data"
    }
   ],
   "source": [
    "# here we use x as a sequence from .01-1\n",
    "b_likelihood <- dbeta(x = seq(.01, 1, .01), shape1 = 2, shape2 = 8)\n",
    "\n",
    "df <- data.frame(theta = seq(.01, 1, .01),\n",
    "                 b_likelihood)\n",
    "\n",
    "df %>%\n",
    "  ggplot(aes(x = theta, y = b_likelihood)) +\n",
    "  geom_line(size = 1) +\n",
    "  scale_x_continuous(breaks = seq(0, 1, by = .10)) +\n",
    "  theme_minimal(base_size = 14) +\n",
    "  theme(axis.text.y = element_blank(),\n",
    "        axis.ticks.y = element_blank(),\n",
    "        panel.grid.major.y = element_blank(),\n",
    "        panel.grid.minor.y = element_blank(),\n",
    "        plot.title = element_text(hjust = .5, size = 20))"
   ]
  },
  {
   "cell_type": "code",
   "execution_count": 27,
   "metadata": {},
   "outputs": [
    {
     "ename": "ERROR",
     "evalue": "Error in pivot_longer(df, cols = c(likelihood, prior, pd)): не могу найти функцию \"pivot_longer\"\n",
     "output_type": "error",
     "traceback": [
      "Error in pivot_longer(df, cols = c(likelihood, prior, pd)): не могу найти функцию \"pivot_longer\"\nTraceback:\n"
     ]
    }
   ],
   "source": [
    "theta <- seq(.01, 1, .01)\n",
    "prior <- dbeta(x = theta, shape1 = 2, shape2 = 8)\n",
    "\n",
    "#multiply the binomial likelihood by 100 to express it in 'probability terms' like the beta\n",
    "likelihood <- dbinom(x = 14, size = 100, prob = theta) * 100\n",
    "posterior_density <- likelihood * prior\n",
    "\n",
    "df <- data.frame(theta = theta,\n",
    "                 likelihood = likelihood,\n",
    "                 prior = prior,\n",
    "                 pd = posterior_density)\n",
    "\n",
    "# use pivot_longer to create a variable out of likelihood vs. prior vs. posterior\n",
    "data_long <- pivot_longer(df, cols = c(likelihood, prior, pd))\n",
    "\n",
    "data_long %>%\n",
    "  ggplot(aes(x = theta, y = value, color = name)) +\n",
    "  geom_line(size = 1.5) +\n",
    "  scale_color_discrete(labels = c(\"Likelihood\", \"Posterior\", \"Prior\")) +\n",
    "  scale_x_continuous(breaks = seq(0, 1, by = .10)) +\n",
    "  theme_minimal(base_size = 16) +\n",
    "  theme(axis.text.y = element_blank(),\n",
    "        axis.ticks.y = element_blank(),\n",
    "        panel.grid.major.y = element_blank(),\n",
    "        panel.grid.minor.y = element_blank(),\n",
    "        plot.title = element_text(hjust = .5, size = 20))"
   ]
  },
  {
   "cell_type": "code",
   "execution_count": 29,
   "metadata": {},
   "outputs": [],
   "source": [
    "df <- data.frame(name = c('Jon', 'Bill', 'Maria'),\n",
    "                 age = c(23, 41, 32))\n",
    "\n",
    "write.csv(df,'C:\\\\Users\\\\alexe\\\\Desktop\\\\MyData1.csv', row.names = TRUE)"
   ]
  },
  {
   "cell_type": "code",
   "execution_count": 28,
   "metadata": {},
   "outputs": [
    {
     "ename": "ERROR",
     "evalue": "Error in eval(expr, envir, enclos): объект 'relig_income' не найден\n",
     "output_type": "error",
     "traceback": [
      "Error in eval(expr, envir, enclos): объект 'relig_income' не найден\nTraceback:\n"
     ]
    }
   ],
   "source": [
    "library('tidyr')\n",
    "relig_income"
   ]
  },
  {
   "cell_type": "code",
   "execution_count": 18,
   "metadata": {},
   "outputs": [
    {
     "ename": "ERROR",
     "evalue": "Error in eval(lhs, parent, parent): объект 'relig_income' не найден\n",
     "output_type": "error",
     "traceback": [
      "Error in eval(lhs, parent, parent): объект 'relig_income' не найден\nTraceback:\n",
      "1. relig_income %>% pivot_longer(-religion, names_to = \"income\", \n .     values_to = \"count\")",
      "2. eval(lhs, parent, parent)",
      "3. eval(lhs, parent, parent)"
     ]
    }
   ],
   "source": [
    "relig_income %>% \n",
    "  pivot_longer(-religion, names_to = \"income\", values_to = \"count\")"
   ]
  }
 ],
 "metadata": {
  "kernelspec": {
   "display_name": "R",
   "language": "R",
   "name": "ir"
  },
  "language_info": {
   "codemirror_mode": "r",
   "file_extension": ".r",
   "mimetype": "text/x-r-source",
   "name": "R",
   "pygments_lexer": "r",
   "version": "3.6.1"
  }
 },
 "nbformat": 4,
 "nbformat_minor": 2
}
