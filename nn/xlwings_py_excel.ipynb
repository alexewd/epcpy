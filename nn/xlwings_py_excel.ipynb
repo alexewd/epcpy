{
 "cells": [
  {
   "cell_type": "markdown",
   "metadata": {},
   "source": [
    "[https://towardsdatascience.com/how-to-supercharge-excel-with-python-726b0f8e22c2]"
   ]
  },
  {
   "cell_type": "code",
   "execution_count": 2,
   "metadata": {},
   "outputs": [],
   "source": [
    "import xlwings as xw\n",
    "import pandas as pd\n",
    "def main():\n",
    "    wb = xw.Book.caller()\n",
    "    df = pd.read_csv('data/iris.csv')\n",
    "    df['total_length'] =  df['sepal_length_(cm)'] + df['petal_length_(cm)']\n",
    "    wb.sheets[0].range('A1').value = df\n",
    "# main don't called directly"
   ]
  },
  {
   "cell_type": "code",
   "execution_count": 8,
   "metadata": {},
   "outputs": [],
   "source": [
    "import xlwings as xw\n",
    "import random\n",
    "def random_line(afile):\n",
    "    line = next(afile)\n",
    "    for num, aline in enumerate(afile, 2):\n",
    "      if random.randrange(num): continue\n",
    "      line = aline\n",
    "    return line\n",
    "'Function from: stackoverflow'\n",
    "def main():\n",
    "    wb = xw.Book.caller()\n",
    "    listloc = str(wb.sheets[0].range('B3').value)\n",
    "    fhandle = open(listloc, encoding = 'utf-8')\n",
    "\n",
    "    wb.sheets[0].range('A5').value = wb.sheets[0].range('B2').value + ' ' + wb.sheets[0].range('B1').value + ' here is a joke for you'\n",
    "    wb.sheets[0].range('A6').value = random_line(fhandle)"
   ]
  },
  {
   "cell_type": "code",
   "execution_count": null,
   "metadata": {},
   "outputs": [],
   "source": []
  }
 ],
 "metadata": {
  "kernelspec": {
   "display_name": "Python 3",
   "language": "python",
   "name": "python3"
  },
  "language_info": {
   "codemirror_mode": {
    "name": "ipython",
    "version": 3
   },
   "file_extension": ".py",
   "mimetype": "text/x-python",
   "name": "python",
   "nbconvert_exporter": "python",
   "pygments_lexer": "ipython3",
   "version": "3.7.4"
  }
 },
 "nbformat": 4,
 "nbformat_minor": 2
}
