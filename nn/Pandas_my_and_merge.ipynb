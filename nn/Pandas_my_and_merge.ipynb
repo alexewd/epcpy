{
 "cells": [
  {
   "cell_type": "markdown",
   "metadata": {},
   "source": [
    "[https://pythonru.com/uroki/osnovy-pandas-3-vazhnye-metody-formatirovanija-dannyh]"
   ]
  },
  {
   "cell_type": "code",
   "execution_count": 1,
   "metadata": {},
   "outputs": [],
   "source": [
    "# импортируем библиотеки numpy и pandas\n",
    "import numpy as np\n",
    "import pandas as pd\n",
    "\n",
    "# импортируем библиотеку datetime для работы с датами\n",
    "import datetime\n",
    "from datetime import datetime, date\n",
    "\n",
    "import warnings\n",
    "warnings.filterwarnings('ignore')\n",
    "# Задаем некоторые опции библиотеки pandas, которые\n",
    "# настраивают вывод\n",
    "pd.set_option('display.notebook_repr_html', False)\n",
    "pd.set_option('display.max_columns', 8)\n",
    "pd.set_option('display.max_rows', 10)\n",
    "pd.set_option('display.width', 80)\n",
    "\n",
    "# импортируем matplotlib для построения графиков\n",
    "import matplotlib.pyplot as plt\n",
    "%matplotlib inline"
   ]
  },
  {
   "cell_type": "code",
   "execution_count": 2,
   "metadata": {},
   "outputs": [],
   "source": [
    "sp500 = pd.read_csv(\"data/sp500.csv\", \n",
    "                    index_col='Symbol', \n",
    "                    usecols=[0, 2, 3, 7])"
   ]
  },
  {
   "cell_type": "code",
   "execution_count": 3,
   "metadata": {},
   "outputs": [
    {
     "data": {
      "text/plain": [
       "             Sector   Price  Book Value\n",
       "Symbol                                 \n",
       "MMM     Industrials  141.14      26.668\n",
       "ABT     Health Care   39.60      15.573\n",
       "ABBV    Health Care   53.95       2.954"
      ]
     },
     "execution_count": 3,
     "metadata": {},
     "output_type": "execute_result"
    }
   ],
   "source": [
    "sp500.head(3)"
   ]
  },
  {
   "cell_type": "code",
   "execution_count": 4,
   "metadata": {},
   "outputs": [
    {
     "data": {
      "text/plain": [
       "                        Sector   Price  Book Value\n",
       "Symbol                                            \n",
       "MMM                Industrials  141.14      26.668\n",
       "ABT                Health Care   39.60      15.573\n",
       "ABBV               Health Care   53.95       2.954\n",
       "ACN     Information Technology   79.79       8.326"
      ]
     },
     "execution_count": 4,
     "metadata": {},
     "output_type": "execute_result"
    }
   ],
   "source": [
    "# создаем копию датафрейма df\n",
    "df2 = sp500.copy()\n",
    "# # заменяем две ячейки с пропусками значениями 0\n",
    "# df2.loc['g'].c1 = 0\n",
    "# df2.loc['g'].c3 = 0\n",
    "df2.head(4)"
   ]
  },
  {
   "cell_type": "code",
   "execution_count": 5,
   "metadata": {},
   "outputs": [
    {
     "data": {
      "text/plain": [
       "   c1  c2  c3\n",
       "a   0   1   2\n",
       "b   3   4   5\n",
       "c   6   7   8\n",
       "d   9  10  11\n",
       "e  12  13  14"
      ]
     },
     "execution_count": 5,
     "metadata": {},
     "output_type": "execute_result"
    }
   ],
   "source": [
    "# создаем датафрейм с 5 строками и 3 столбцами\n",
    "df = pd.DataFrame(np.arange(0, 15).reshape(5, 3), \n",
    "               index=['a', 'b', 'c', 'd', 'e'], \n",
    "               columns=['c1', 'c2', 'c3'])\n",
    "df"
   ]
  },
  {
   "cell_type": "code",
   "execution_count": 6,
   "metadata": {},
   "outputs": [
    {
     "data": {
      "text/plain": [
       "     c1    c2    c3    c4  c5\n",
       "a   0.0   1.0   2.0  20.0 NaN\n",
       "b   3.0   4.0   5.0   NaN NaN\n",
       "c   6.0   7.0   8.0   NaN NaN\n",
       "d   9.0  10.0  11.0   NaN NaN\n",
       "e  12.0  13.0  14.0   NaN NaN\n",
       "f  15.0  16.0  17.0  18.0 NaN\n",
       "g   NaN   NaN   NaN   NaN NaN"
      ]
     },
     "execution_count": 6,
     "metadata": {},
     "output_type": "execute_result"
    }
   ],
   "source": [
    "# добавляем несколько столбцов и строк в датафрейм\n",
    "# столбец c4 со значениями NaN\n",
    "df['c4'] = np.nan\n",
    "# строка 'f' со значениями от 15 до 18 \n",
    "df.loc['f'] = np.arange(15, 19) \n",
    "# строка 'g', состоящая из значений NaN\n",
    "df.loc['g'] = np.nan\n",
    "# столбец 'C5', состоящий из значений NaN\n",
    "df['c5'] = np.nan\n",
    "# меняем значение в столбце 'c4' строки 'a'\n",
    "df['c4']['a'] = 20\n",
    "df"
   ]
  },
  {
   "cell_type": "code",
   "execution_count": 7,
   "metadata": {},
   "outputs": [
    {
     "data": {
      "text/plain": [
       "      c1     c2     c3     c4    c5\n",
       "a  False  False  False  False  True\n",
       "b  False  False  False   True  True\n",
       "c  False  False  False   True  True\n",
       "d  False  False  False   True  True\n",
       "e  False  False  False   True  True\n",
       "f  False  False  False  False  True\n",
       "g   True   True   True   True  True"
      ]
     },
     "execution_count": 7,
     "metadata": {},
     "output_type": "execute_result"
    }
   ],
   "source": [
    "# какие элементы являются значениями NaN?\n",
    "df.isnull()"
   ]
  },
  {
   "cell_type": "code",
   "execution_count": 8,
   "metadata": {},
   "outputs": [
    {
     "data": {
      "text/plain": [
       "15"
      ]
     },
     "execution_count": 8,
     "metadata": {},
     "output_type": "execute_result"
    }
   ],
   "source": [
    "# вычисляем общее количество значений NaN\n",
    "df.isnull().sum().sum()"
   ]
  },
  {
   "cell_type": "code",
   "execution_count": 9,
   "metadata": {},
   "outputs": [
    {
     "data": {
      "text/plain": [
       "c1    6\n",
       "c2    6\n",
       "c3    6\n",
       "c4    2\n",
       "c5    0\n",
       "dtype: int64"
      ]
     },
     "execution_count": 9,
     "metadata": {},
     "output_type": "execute_result"
    }
   ],
   "source": [
    "# вычисляем количество значений, отличных от NaN,\n",
    "# по каждому столбцу\n",
    "df.count()"
   ]
  },
  {
   "cell_type": "code",
   "execution_count": 10,
   "metadata": {},
   "outputs": [
    {
     "data": {
      "text/plain": [
       "      c1     c2     c3     c4     c5\n",
       "a   True   True   True   True  False\n",
       "b   True   True   True  False  False\n",
       "c   True   True   True  False  False\n",
       "d   True   True   True  False  False\n",
       "e   True   True   True  False  False\n",
       "f   True   True   True   True  False\n",
       "g  False  False  False  False  False"
      ]
     },
     "execution_count": 10,
     "metadata": {},
     "output_type": "execute_result"
    }
   ],
   "source": [
    "# какие элементы являются непропущенными значениями?\n",
    "df.notnull()"
   ]
  },
  {
   "cell_type": "code",
   "execution_count": 11,
   "metadata": {},
   "outputs": [
    {
     "data": {
      "text/plain": [
       "Empty DataFrame\n",
       "Columns: [c1, c2, c3, c4, c5]\n",
       "Index: []"
      ]
     },
     "execution_count": 11,
     "metadata": {},
     "output_type": "execute_result"
    }
   ],
   "source": [
    "# метод .dropna() при применении к датафрейму \n",
    "# удаляет целиком строки, в которых есть\n",
    "# по крайней мере одно значение NaN\n",
    "# в данном случае будут удалены все строки\n",
    "df.dropna()"
   ]
  },
  {
   "cell_type": "code",
   "execution_count": 12,
   "metadata": {},
   "outputs": [
    {
     "data": {
      "text/plain": [
       "     c1    c2    c3    c4  c5\n",
       "a   0.0   1.0   2.0  20.0 NaN\n",
       "b   3.0   4.0   5.0   NaN NaN\n",
       "c   6.0   7.0   8.0   NaN NaN\n",
       "d   9.0  10.0  11.0   NaN NaN\n",
       "e  12.0  13.0  14.0   NaN NaN\n",
       "f  15.0  16.0  17.0  18.0 NaN"
      ]
     },
     "execution_count": 12,
     "metadata": {},
     "output_type": "execute_result"
    }
   ],
   "source": [
    "# используя параметр how='all', удаляем лишь те строки,\n",
    "# в которых все значения являются значениями NaN\n",
    "df.dropna(how = 'all')"
   ]
  },
  {
   "cell_type": "code",
   "execution_count": 15,
   "metadata": {},
   "outputs": [
    {
     "data": {
      "text/plain": [
       "c1    12.0\n",
       "c2    13.0\n",
       "c3    14.0\n",
       "Name: e, dtype: float64"
      ]
     },
     "execution_count": 15,
     "metadata": {},
     "output_type": "execute_result"
    }
   ],
   "source": [
    "df3 = df.loc['e'].dropna(how='all')\n",
    "df3"
   ]
  },
  {
   "cell_type": "code",
   "execution_count": 47,
   "metadata": {},
   "outputs": [
    {
     "data": {
      "text/plain": [
       "      animal  uniq_id  water_need\n",
       "0   elephant     1001         500\n",
       "1   elephant     1002         600\n",
       "2   elephant     1003         550\n",
       "3      tiger     1004         300\n",
       "4      tiger     1005         320\n",
       "..       ...      ...         ...\n",
       "17      lion     1018         500\n",
       "18      lion     1019         390\n",
       "19  kangaroo     1020         410\n",
       "20  kangaroo     1021         430\n",
       "21  kangaroo     1022         410\n",
       "\n",
       "[22 rows x 3 columns]"
      ]
     },
     "execution_count": 47,
     "metadata": {},
     "output_type": "execute_result"
    }
   ],
   "source": [
    "zoo = pd.read_csv('data/zoo.csv', delimiter=',')\n",
    "zoo"
   ]
  },
  {
   "cell_type": "code",
   "execution_count": 27,
   "metadata": {
    "collapsed": true
   },
   "outputs": [
    {
     "data": {
      "text/plain": [
       "              my_datetime event    country     user_id   source          topic\n",
       "0     2018-01-01 00:01:01  read  country_7  2458151261      SEO  North America\n",
       "1     2018-01-01 00:03:20  read  country_7  2458151262      SEO  South America\n",
       "2     2018-01-01 00:04:01  read  country_7  2458151263  AdWords         Africa\n",
       "3     2018-01-01 00:04:02  read  country_7  2458151264  AdWords         Europe\n",
       "4     2018-01-01 00:05:03  read  country_8  2458151265   Reddit  North America\n",
       "...                   ...   ...        ...         ...      ...            ...\n",
       "1790  2018-01-01 23:57:14  read  country_2  2458153051  AdWords  North America\n",
       "1791  2018-01-01 23:58:33  read  country_8  2458153052      SEO           Asia\n",
       "1792  2018-01-01 23:59:36  read  country_6  2458153053   Reddit           Asia\n",
       "1793  2018-01-01 23:59:36  read  country_7  2458153054  AdWords         Europe\n",
       "1794  2018-01-01 23:59:38  read  country_5  2458153055   Reddit           Asia\n",
       "\n",
       "[1795 rows x 6 columns]"
      ]
     },
     "execution_count": 27,
     "metadata": {},
     "output_type": "execute_result"
    }
   ],
   "source": [
    "df10 = pd.read_csv('data/pandas_tutorial_read.csv', delimiter=';', \n",
    "\t    names=['my_datetime', 'event', 'country', 'user_id', 'source', 'topic'])\n",
    "df10"
   ]
  },
  {
   "cell_type": "code",
   "execution_count": 28,
   "metadata": {},
   "outputs": [
    {
     "data": {
      "text/plain": [
       "        country     user_id\n",
       "0     country_7  2458151261\n",
       "1     country_7  2458151262\n",
       "2     country_7  2458151263\n",
       "3     country_7  2458151264\n",
       "4     country_8  2458151265\n",
       "...         ...         ...\n",
       "1790  country_2  2458153051\n",
       "1791  country_8  2458153052\n",
       "1792  country_6  2458153053\n",
       "1793  country_7  2458153054\n",
       "1794  country_5  2458153055\n",
       "\n",
       "[1795 rows x 2 columns]"
      ]
     },
     "execution_count": 28,
     "metadata": {},
     "output_type": "execute_result"
    }
   ],
   "source": [
    "\n",
    "df10[['country', 'user_id']]"
   ]
  },
  {
   "cell_type": "code",
   "execution_count": 29,
   "metadata": {},
   "outputs": [
    {
     "data": {
      "text/plain": [
       "              my_datetime event    country     user_id   source          topic\n",
       "980   2018-01-01 13:08:52  read  country_2  2458152241  AdWords           Asia\n",
       "793   2018-01-01 10:43:06  read  country_4  2458152054   Reddit  North America\n",
       "653   2018-01-01 08:55:39  read  country_2  2458151914   Reddit           Asia\n",
       "1071  2018-01-01 14:28:27  read  country_5  2458152332   Reddit           Asia\n",
       "66    2018-01-01 01:00:20  read  country_6  2458151327  AdWords           Asia"
      ]
     },
     "execution_count": 29,
     "metadata": {},
     "output_type": "execute_result"
    }
   ],
   "source": [
    "# Или 5 случайных строк:\n",
    "df10.sample(5)"
   ]
  },
  {
   "cell_type": "code",
   "execution_count": 32,
   "metadata": {},
   "outputs": [
    {
     "data": {
      "text/plain": [
       "pandas.core.series.Series"
      ]
     },
     "execution_count": 32,
     "metadata": {},
     "output_type": "execute_result"
    }
   ],
   "source": [
    "# Примечание: иногда \n",
    "# нужно получить объекты Series вместе DataFrames. Это можно сделать с помощью одного из способов:\n",
    "\n",
    "df10.user_id\n",
    "sd = df10['user_id']\n",
    "type(sd)"
   ]
  },
  {
   "cell_type": "markdown",
   "metadata": {},
   "source": [
    "df10.head()[['country', 'user_id']]\n",
    "Первая строчка выбирает первые 5 строк из набора данных. Потом она выбирает колонки «country» и «user_id».\n",
    "Можно ли получить тот же результат с иной цепочкой функций? Конечно:\n",
    "df10[['country', 'user_id']].head()\n",
    "В этом случае сначала выбираются колонки, а потом берутся первые 5 строк. Результат такой же — порядок функций (и их исполнение) отличается."
   ]
  },
  {
   "cell_type": "code",
   "execution_count": 33,
   "metadata": {},
   "outputs": [
    {
     "data": {
      "text/plain": [
       "     country     user_id\n",
       "0  country_7  2458151261\n",
       "1  country_7  2458151262\n",
       "2  country_7  2458151263\n",
       "3  country_7  2458151264\n",
       "4  country_8  2458151265"
      ]
     },
     "execution_count": 33,
     "metadata": {},
     "output_type": "execute_result"
    }
   ],
   "source": [
    "df10[['country', 'user_id']].head()"
   ]
  },
  {
   "cell_type": "code",
   "execution_count": 40,
   "metadata": {},
   "outputs": [
    {
     "data": {
      "text/plain": [
       "       user_id   topic    country\n",
       "6   2458151267  Europe  country_2\n",
       "13  2458151274  Europe  country_2\n",
       "17  2458151278    Asia  country_2\n",
       "19  2458151280    Asia  country_2\n",
       "20  2458151281    Asia  country_2"
      ]
     },
     "execution_count": 40,
     "metadata": {},
     "output_type": "execute_result"
    }
   ],
   "source": [
    "# Выберите used_id , country и topic для пользователей из country_2.\n",
    "# Выведите первые 5 строк!\n",
    "df10[df10.country == 'country_2'][['user_id','topic', 'country']].head()"
   ]
  },
  {
   "cell_type": "code",
   "execution_count": 37,
   "metadata": {},
   "outputs": [
    {
     "data": {
      "text/plain": [
       "       user_id   topic    country\n",
       "6   2458151267  Europe  country_2\n",
       "13  2458151274  Europe  country_2\n",
       "17  2458151278    Asia  country_2\n",
       "19  2458151280    Asia  country_2\n",
       "20  2458151281    Asia  country_2"
      ]
     },
     "execution_count": 37,
     "metadata": {},
     "output_type": "execute_result"
    }
   ],
   "source": [
    "# Или, чтобы было понятнее, можно разбить на несколько строк:\n",
    "df10 = df10[df10.country == 'country_2']\n",
    "df10_cols = df10[['user_id','topic', 'country']]\n",
    "df10_cols.head()"
   ]
  },
  {
   "cell_type": "code",
   "execution_count": 43,
   "metadata": {},
   "outputs": [
    {
     "data": {
      "text/plain": [
       "     animal        food\n",
       "0  elephant  vegetables\n",
       "1     tiger        meat\n",
       "2  kangaroo  vegetables\n",
       "3     zebra  vegetables\n",
       "4   giraffe  vegetables"
      ]
     },
     "execution_count": 43,
     "metadata": {},
     "output_type": "execute_result"
    }
   ],
   "source": [
    "zoo_eats = pd.DataFrame([['elephant','vegetables'], ['tiger','meat'], ['kangaroo','vegetables'], ['zebra','vegetables'], ['giraffe','vegetables']], columns=['animal', 'food'])\n",
    "zoo_eats.shape\n",
    "zoo_eats.head()"
   ]
  },
  {
   "cell_type": "code",
   "execution_count": 48,
   "metadata": {},
   "outputs": [
    {
     "data": {
      "text/plain": [
       "     animal  uniq_id  water_need\n",
       "0  elephant     1001         500\n",
       "1  elephant     1002         600\n",
       "2  elephant     1003         550\n",
       "3     tiger     1004         300\n",
       "4     tiger     1005         320"
      ]
     },
     "execution_count": 48,
     "metadata": {},
     "output_type": "execute_result"
    }
   ],
   "source": [
    "zoo_copy = zoo.copy()\n",
    "zoo_copy.head()"
   ]
  },
  {
   "attachments": {
    "merge_dataframe.png": {
     "image/png": "[encoded data removed]"
    }
   },
   "cell_type": "markdown",
   "metadata": {},
   "source": [
    "![merge_dataframe.png](attachment:merge_dataframe.png)"
   ]
  },
  {
   "cell_type": "markdown",
   "metadata": {},
   "source": [
    "При выборе INNER JOIN (вид по умолчанию в SQL и pandas) объединяются только те значения, которые можно найти в обеих таблицах. В случае же с OUTER JOIN объединяются все значения, даже если некоторые из них есть только в одной таблице.\n",
    "Конкретный пример: в zoo_eats нет значения lion. А в zoo нет значения giraffe. По умолчанию использовался метод INNER, поэтому и львы, и жирафы пропали из таблицы. Но бывают случаи, когда нужно, чтобы все значения оставались в объединенном DataFrame. Этого можно добиться следующим образом:\n",
    "zoo.merge(zoo_eats, how='outer')"
   ]
  },
  {
   "cell_type": "code",
   "execution_count": 49,
   "metadata": {},
   "outputs": [
    {
     "data": {
      "text/plain": [
       "      animal  uniq_id  water_need        food\n",
       "0   elephant     1001         500  vegetables\n",
       "1   elephant     1002         600  vegetables\n",
       "2   elephant     1003         550  vegetables\n",
       "3      tiger     1004         300        meat\n",
       "4      tiger     1005         320        meat\n",
       "..       ...      ...         ...         ...\n",
       "13     zebra     1014         100  vegetables\n",
       "14     zebra     1015          80  vegetables\n",
       "15  kangaroo     1020         410  vegetables\n",
       "16  kangaroo     1021         430  vegetables\n",
       "17  kangaroo     1022         410  vegetables\n",
       "\n",
       "[18 rows x 4 columns]"
      ]
     },
     "execution_count": 49,
     "metadata": {},
     "output_type": "execute_result"
    }
   ],
   "source": [
    "zoo_copy.merge(zoo_eats)"
   ]
  },
  {
   "cell_type": "code",
   "execution_count": 50,
   "metadata": {},
   "outputs": [
    {
     "data": {
      "text/plain": [
       "      animal  uniq_id  water_need        food\n",
       "0   elephant   1001.0       500.0  vegetables\n",
       "1   elephant   1002.0       600.0  vegetables\n",
       "2   elephant   1003.0       550.0  vegetables\n",
       "3      tiger   1004.0       300.0        meat\n",
       "4      tiger   1005.0       320.0        meat\n",
       "..       ...      ...         ...         ...\n",
       "18      lion   1019.0       390.0         NaN\n",
       "19  kangaroo   1020.0       410.0  vegetables\n",
       "20  kangaroo   1021.0       430.0  vegetables\n",
       "21  kangaroo   1022.0       410.0  vegetables\n",
       "22   giraffe      NaN         NaN  vegetables\n",
       "\n",
       "[23 rows x 4 columns]"
      ]
     },
     "execution_count": 50,
     "metadata": {},
     "output_type": "execute_result"
    }
   ],
   "source": [
    "zoo_copy.merge(zoo_eats, how='outer')"
   ]
  },
  {
   "cell_type": "markdown",
   "metadata": {},
   "source": [
    "Для использования merge библиотеке pandas нужны ключевые колонки, на основе которых будет проходить объединение (в случае с примером это колонка animal). Иногда pandas не сможет распознать их автоматически, и тогда нужно указать названия колонок. Для этого нужны параметры left_on и right_on.\n",
    "Например, последний merge мог бы выглядеть следующим образом:\n",
    "zoo.merge(zoo_eats, how = 'left', left_on='animal', right_on='animal')\n",
    "Примечание: в примере pandas автоматически нашел ключевые колонки, но часто бывает так, что этого не происходит. Поэтому о left_on и right_on не стоит забывать.\n",
    "Merge в pandas — довольно сложный метод, но остальные будут намного проще"
   ]
  },
  {
   "cell_type": "code",
   "execution_count": 59,
   "metadata": {},
   "outputs": [
    {
     "data": {
      "text/plain": [
       "           my_datetime event    country     user_id   source          topic\n",
       "0  2018-01-01 00:01:01  read  country_7  2458151261      SEO  North America\n",
       "1  2018-01-01 00:03:20  read  country_7  2458151262      SEO  South America\n",
       "2  2018-01-01 00:04:01  read  country_7  2458151263  AdWords         Africa"
      ]
     },
     "execution_count": 59,
     "metadata": {},
     "output_type": "execute_result"
    }
   ],
   "source": [
    "df10 = pd.read_csv('data/pandas_tutorial_read.csv', delimiter=';', \n",
    "\t    names=['my_datetime', 'event', 'country', 'user_id', 'source', 'topic'])\n",
    "df10.head(3)"
   ]
  },
  {
   "cell_type": "code",
   "execution_count": 69,
   "metadata": {},
   "outputs": [
    {
     "data": {
      "text/plain": [
       "                               my_datetime  event  user_id  amount\n",
       "0     2018-01-01 04:04:59;buy;2458151555;8    NaN      NaN     NaN\n",
       "1     2018-01-01 09:28:00;buy;2458151933;8    NaN      NaN     NaN\n",
       "2     2018-01-01 13:23:16;buy;2458152245;8    NaN      NaN     NaN\n",
       "3   2018-01-01 14:20:43;buy;2458152315;100    NaN      NaN     NaN\n",
       "4     2018-01-02 02:57:43;buy;2458153264;8    NaN      NaN     NaN\n",
       "..                                     ...    ...      ...     ...\n",
       "65    2018-01-07 18:44:58;buy;2458157339;8    NaN      NaN     NaN\n",
       "66    2018-01-07 19:09:53;buy;2458157601;8    NaN      NaN     NaN\n",
       "67    2018-01-07 20:24:35;buy;2458157193;8    NaN      NaN     NaN\n",
       "68    2018-01-07 22:11:28;buy;2458157128;8    NaN      NaN     NaN\n",
       "69    2018-01-07 23:58:19;buy;2458159286;8    NaN      NaN     NaN\n",
       "\n",
       "[70 rows x 4 columns]"
      ]
     },
     "execution_count": 69,
     "metadata": {},
     "output_type": "execute_result"
    }
   ],
   "source": [
    "# names=['my_datetime', 'event', 'user_id', 'неизвестно_что']\n",
    "blog_buy = pd.read_csv('data/pandas_tutorial_buy.csv', names=['my_datetime', 'event', 'user_id', 'amount'])\n",
    "blog_buy.shape\n",
    "blog_buy.head(6)\n",
    "blog_buy"
   ]
  },
  {
   "cell_type": "markdown",
   "metadata": {},
   "source": [
    "Набор article_read показывает всех пользователей, которые читают блог, а blog_buy — тех, купил что-то в этом блоге за период с 2018-01-01 по 2018-01-07.\n",
    "Два вопроса:\n",
    "Какой средний доход в период с 2018-01-01 по 2018-01-07 от пользователей из article_read?\n",
    "Выведите топ-3 страны по общему уровню дохода за период с 2018-01-01 по 2018-01-07. (Пользователей из article_read здесь тоже нужно использовать).\n",
    "Решение зад"
   ]
  },
  {
   "cell_type": "code",
   "execution_count": 70,
   "metadata": {},
   "outputs": [
    {
     "data": {
      "text/plain": [
       "0.0"
      ]
     },
     "execution_count": 70,
     "metadata": {},
     "output_type": "execute_result"
    }
   ],
   "source": [
    "step_1 = df10.merge(blog_buy, how='left', left_on='user_id', right_on='user_id')\n",
    "step_2 = step_1.amount\n",
    "step_3 = step_2.fillna(0)\n",
    "result = step_3.mean()\n",
    "result"
   ]
  },
  {
   "cell_type": "code",
   "execution_count": null,
   "metadata": {},
   "outputs": [],
   "source": []
  },
  {
   "cell_type": "code",
   "execution_count": null,
   "metadata": {},
   "outputs": [],
   "source": []
  }
 ],
 "metadata": {
  "kernelspec": {
   "display_name": "Python 3",
   "language": "python",
   "name": "python3"
  },
  "language_info": {
   "codemirror_mode": {
    "name": "ipython",
    "version": 3
   },
   "file_extension": ".py",
   "mimetype": "text/x-python",
   "name": "python",
   "nbconvert_exporter": "python",
   "pygments_lexer": "ipython3",
   "version": "3.7.4"
  }
 },
 "nbformat": 4,
 "nbformat_minor": 4
}
