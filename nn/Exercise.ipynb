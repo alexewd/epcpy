{
 "cells": [
  {
   "cell_type": "markdown",
   "metadata": {},
   "source": [
    "Дана строка. Вывести ее три раза через запятую и показать количество символов в ней.\n",
    "Дана строка. Вывести первый, последний и средний (если он есть)) символы.\n",
    "Дана строка. Вывести первые три символа и последний три символа, если длина строки больше 5. Иначе вывести первый символ столько раз, какова длина строки.\n",
    "Сформировать строку из 10 символов. На четных позициях должны находится четные цифры, на нечетных позициях - буквы.\n",
    "Дана строка. Показать номера символов, совпадающих с последним символом строки.\n",
    "Дана строка. Показать третий, шестой, девятый и так далее символы.\n",
    "Дана строка. Определите общее количество символов '+' и '-' в ней. А так же сколько таких символов, после которых следует цифра ноль.\n",
    "Дана строка. Определите, какой символ в ней встречается раньше: 'x' или 'w'. Если какого-то из символов нет, вывести сообщение об этом.\n",
    "Даны две строки. Вывести большую по длине строку столько раз, на сколько символов отличаются строки.\n",
    "Дана строка. Если она начинается на 'abc', то заменить их на 'www', иначе добавить в конец строки 'zzz'."
   ]
  },
  {
   "cell_type": "markdown",
   "metadata": {},
   "source": [
    "Есть список a = [1, 1, 63, 2, 34, 187, 3, 5, 8, 47, 13, 21, 34, 55, 89, 5, 187,  2, 983]\n",
    "\n",
    "Выведите все элементы, которые меньше 37.      А потом - напишите функцию, которая выводит, переданный функции в параметре список - без повторяющихся элементов. (дубликатов)!"
   ]
  },
  {
   "cell_type": "code",
   "execution_count": 17,
   "metadata": {},
   "outputs": [],
   "source": [
    "a = [1, 1, 63, 2, 34, 187, 3, 5, 8, 47, 13, 21, 34, 55, 89, 5, 187,  2, 983]"
   ]
  },
  {
   "cell_type": "code",
   "execution_count": 18,
   "metadata": {},
   "outputs": [
    {
     "data": {
      "text/plain": [
       "[]"
      ]
     },
     "execution_count": 18,
     "metadata": {},
     "output_type": "execute_result"
    }
   ],
   "source": [
    "for item in a:\n",
    "    m = []\n",
    "    if item < 37:\n",
    "        m.append(item)\n",
    "        print(m)\n",
    "\n",
    "m\n",
    "# sorted(m)"
   ]
  },
  {
   "cell_type": "code",
   "execution_count": null,
   "metadata": {},
   "outputs": [],
   "source": []
  },
  {
   "cell_type": "code",
   "execution_count": 6,
   "metadata": {},
   "outputs": [],
   "source": [
    "s = 'When? In this house of mine.'"
   ]
  },
  {
   "cell_type": "code",
   "execution_count": 7,
   "metadata": {},
   "outputs": [
    {
     "data": {
      "text/plain": [
       "'When? In this house of mine.When? In this house of mine.When? In this house of mine.'"
      ]
     },
     "execution_count": 7,
     "metadata": {},
     "output_type": "execute_result"
    }
   ],
   "source": [
    "s = s*3\n",
    "l = len(s*3)\n",
    "s"
   ]
  },
  {
   "cell_type": "code",
   "execution_count": null,
   "metadata": {},
   "outputs": [],
   "source": []
  }
 ],
 "metadata": {
  "kernelspec": {
   "display_name": "Python 3",
   "language": "python",
   "name": "python3"
  },
  "language_info": {
   "codemirror_mode": {
    "name": "ipython",
    "version": 3
   },
   "file_extension": ".py",
   "mimetype": "text/x-python",
   "name": "python",
   "nbconvert_exporter": "python",
   "pygments_lexer": "ipython3",
   "version": "3.7.1"
  }
 },
 "nbformat": 4,
 "nbformat_minor": 4
}
