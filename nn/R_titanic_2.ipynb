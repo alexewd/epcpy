{
 "cells": [
  {
   "cell_type": "code",
   "execution_count": 1,
   "metadata": {},
   "outputs": [],
   "source": [
    "suppressWarnings(suppressMessages(library(\"rvest\")))\n",
    "suppressWarnings(suppressMessages(library(\"tidyverse\")))\n",
    "suppressWarnings(suppressMessages(library(\"magrittr\")))\n",
    "suppressWarnings(suppressMessages(library(\"XML\")))\n",
    "suppressWarnings(suppressMessages(library(\"dplyr\")))\n",
    "suppressWarnings(suppressMessages(library(\"lubridate\")))\n",
    "suppressWarnings(suppressMessages(library(\"dplyr\")))"
   ]
  },
  {
   "cell_type": "code",
   "execution_count": null,
   "metadata": {},
   "outputs": [],
   "source": [
    "for (i in 0:4) {\n",
    "cat(i, \"\\n\")\n",
    "}\n",
    "\n",
    "i <- 0\n",
    "while (i < 5) {\n",
    "cat(i, \"\\n\")\n",
    "i <- i + 1\n",
    "    }\n",
    "repeat ({\n",
    "## do something\n",
    "## in loop body\n",
    "})"
   ]
  },
  {
   "cell_type": "code",
   "execution_count": null,
   "metadata": {},
   "outputs": [],
   "source": [
    "iter <- 0\n",
    "repeat ({\n",
    "if (runif(1) < 0.25) {\n",
    "break\n",
    "} else {\n",
    "iter <- iter + 1\n",
    "}\n",
    "})\n",
    "iter"
   ]
  },
  {
   "cell_type": "code",
   "execution_count": null,
   "metadata": {},
   "outputs": [],
   "source": [
    "df1 <- data.frame(ID = rep(c(\"A\", \"B\", \"C\"), each = 3), V1 = rnorm(9), V2 = rnorm(9))\n",
    "m1 <- as.matrix(df1[-1])"
   ]
  },
  {
   "cell_type": "markdown",
   "metadata": {},
   "source": [
    "Suppose we need to do the sum of each column in a dataset\n",
    "set.seed(20)\n",
    "df1 <- data.frame(ID = rep(c(\"A\", \"B\", \"C\"), each = 3), V1 = rnorm(9), V2 = rnorm(9))\n",
    "m1 <- as.matrix(df1[-1])\n",
    "There are many ways to do this. Using base R , the best option would be colSums\n",
    "colSums(df1[-1], na.rm = TRUE)\n",
    "Here, we removed the first column as it is non-numeric and did the sum of each column, specifying the na.rm =\n",
    "TRUE (in case there are any NAs in the dataset)\n",
    "This also works with matrix\n",
    "colSums(m1, na.rm = TRUE)\n",
    "This can be done in a loop with lapply/sapply/vapply\n",
    "lapply(df1[-1], sum, na.rm = TRUE)\n",
    "It should be noted that the output is a list . If we need a vector output\n",
    "sapply(df1[-1], sum, na.rm = TRUE)"
   ]
  },
  {
   "cell_type": "code",
   "execution_count": 2,
   "metadata": {},
   "outputs": [],
   "source": [
    "url <- \"http://biostat.mc.vanderbilt.edu/wiki/pub/Main/DataSets/titanic.txt\"\n",
    "titanic <- read.csv(file = url, stringsAsFactors = FALSE)"
   ]
  },
  {
   "cell_type": "markdown",
   "metadata": {},
   "source": [
    "Clean the missing values:\n",
    "In that case, we replace the missing values by an approximation, the average.\n",
    "titanic$age[is.na(titanic$age)] <- mean(titanic$age, na.rm = TRUE)\n",
    "Train the model:\n",
    "titanic.train <- glm(survived ~ pclass + sex + age,\n",
    "family = binomial, data = titanic)\n",
    "Summary of the model:\n",
    "summary(titanic.train)"
   ]
  },
  {
   "cell_type": "code",
   "execution_count": 3,
   "metadata": {},
   "outputs": [],
   "source": [
    "titanic$age[is.na(titanic$age)] <- mean(titanic$age, na.rm = TRUE)"
   ]
  },
  {
   "cell_type": "code",
   "execution_count": 4,
   "metadata": {},
   "outputs": [],
   "source": [
    "titanic.train <- glm(survived ~ pclass + sex + age, family = binomial, data = titanic)\n"
   ]
  },
  {
   "cell_type": "code",
   "execution_count": 5,
   "metadata": {},
   "outputs": [
    {
     "data": {
      "text/plain": [
       "\n",
       "Call:\n",
       "glm(formula = survived ~ pclass + sex + age, family = binomial, \n",
       "    data = titanic)\n",
       "\n",
       "Deviance Residuals: \n",
       "    Min       1Q   Median       3Q      Max  \n",
       "-2.6452  -0.6641  -0.3679   0.6123   2.5615  \n",
       "\n",
       "Coefficients:\n",
       "             Estimate Std. Error z value Pr(>|z|)    \n",
       "(Intercept)  3.552261   0.342188  10.381  < 2e-16 ***\n",
       "pclass2nd   -1.170777   0.211559  -5.534 3.13e-08 ***\n",
       "pclass3rd   -2.430672   0.195157 -12.455  < 2e-16 ***\n",
       "sexmale     -2.463377   0.154587 -15.935  < 2e-16 ***\n",
       "age         -0.042235   0.007415  -5.696 1.23e-08 ***\n",
       "---\n",
       "Signif. codes:  0 '***' 0.001 '**' 0.01 '*' 0.05 '.' 0.1 ' ' 1\n",
       "\n",
       "(Dispersion parameter for binomial family taken to be 1)\n",
       "\n",
       "    Null deviance: 1686.8  on 1312  degrees of freedom\n",
       "Residual deviance: 1165.7  on 1308  degrees of freedom\n",
       "AIC: 1175.7\n",
       "\n",
       "Number of Fisher Scoring iterations: 5\n"
      ]
     },
     "metadata": {},
     "output_type": "display_data"
    }
   ],
   "source": [
    "summary(titanic.train)"
   ]
  },
  {
   "cell_type": "code",
   "execution_count": 6,
   "metadata": {},
   "outputs": [
    {
     "data": {
      "text/plain": [
       "\n",
       "Call:  glm(formula = survived ~ pclass + sex + age, family = binomial, \n",
       "    data = titanic)\n",
       "\n",
       "Coefficients:\n",
       "(Intercept)    pclass2nd    pclass3rd      sexmale          age  \n",
       "    3.55226     -1.17078     -2.43067     -2.46338     -0.04224  \n",
       "\n",
       "Degrees of Freedom: 1312 Total (i.e. Null);  1308 Residual\n",
       "Null Deviance:\t    1687 \n",
       "Residual Deviance: 1166 \tAIC: 1176"
      ]
     },
     "metadata": {},
     "output_type": "display_data"
    }
   ],
   "source": [
    "glm(formula = survived ~ pclass + sex + age, family = binomial, data = titanic)"
   ]
  },
  {
   "cell_type": "markdown",
   "metadata": {},
   "source": [
    "С этой моделью, по сравнению с первым классом, пассажиры 3-го класса имеют примерно десятую часть шансов на выживание."
   ]
  },
  {
   "cell_type": "code",
   "execution_count": 7,
   "metadata": {},
   "outputs": [
    {
     "data": {
      "text/html": [
       "<strong>pclass3rd:</strong> 0.0879776516173155"
      ],
      "text/latex": [
       "\\textbf{pclass3rd:} 0.0879776516173155"
      ],
      "text/markdown": [
       "**pclass3rd:** 0.0879776516173155"
      ],
      "text/plain": [
       " pclass3rd \n",
       "0.08797765 "
      ]
     },
     "metadata": {},
     "output_type": "display_data"
    }
   ],
   "source": [
    "exp(coef(titanic.train)[3])"
   ]
  },
  {
   "cell_type": "code",
   "execution_count": 8,
   "metadata": {},
   "outputs": [
    {
     "name": "stderr",
     "output_type": "stream",
     "text": [
      "Waiting for profiling to be done...\n"
     ]
    },
    {
     "data": {
      "text/html": [
       "<table>\n",
       "<caption>A matrix: 5 × 2 of type dbl</caption>\n",
       "<thead>\n",
       "\t<tr><th></th><th scope=col>2.5 %</th><th scope=col>97.5 %</th></tr>\n",
       "</thead>\n",
       "<tbody>\n",
       "\t<tr><th scope=row>(Intercept)</th><td> 2.89486872</td><td> 4.23734280</td></tr>\n",
       "\t<tr><th scope=row>pclass2nd</th><td>-1.58986065</td><td>-0.75987230</td></tr>\n",
       "\t<tr><th scope=row>pclass3rd</th><td>-2.81987935</td><td>-2.05419500</td></tr>\n",
       "\t<tr><th scope=row>sexmale</th><td>-2.77180962</td><td>-2.16528316</td></tr>\n",
       "\t<tr><th scope=row>age</th><td>-0.05695894</td><td>-0.02786211</td></tr>\n",
       "</tbody>\n",
       "</table>\n"
      ],
      "text/latex": [
       "A matrix: 5 × 2 of type dbl\n",
       "\\begin{tabular}{r|ll}\n",
       "  & 2.5 \\% & 97.5 \\%\\\\\n",
       "\\hline\n",
       "\t(Intercept) &  2.89486872 &  4.23734280\\\\\n",
       "\tpclass2nd & -1.58986065 & -0.75987230\\\\\n",
       "\tpclass3rd & -2.81987935 & -2.05419500\\\\\n",
       "\tsexmale & -2.77180962 & -2.16528316\\\\\n",
       "\tage & -0.05695894 & -0.02786211\\\\\n",
       "\\end{tabular}\n"
      ],
      "text/markdown": [
       "\n",
       "A matrix: 5 × 2 of type dbl\n",
       "\n",
       "| <!--/--> | 2.5 % | 97.5 % |\n",
       "|---|---|---|\n",
       "| (Intercept) |  2.89486872 |  4.23734280 |\n",
       "| pclass2nd | -1.58986065 | -0.75987230 |\n",
       "| pclass3rd | -2.81987935 | -2.05419500 |\n",
       "| sexmale | -2.77180962 | -2.16528316 |\n",
       "| age | -0.05695894 | -0.02786211 |\n",
       "\n"
      ],
      "text/plain": [
       "            2.5 %       97.5 %     \n",
       "(Intercept)  2.89486872  4.23734280\n",
       "pclass2nd   -1.58986065 -0.75987230\n",
       "pclass3rd   -2.81987935 -2.05419500\n",
       "sexmale     -2.77180962 -2.16528316\n",
       "age         -0.05695894 -0.02786211"
      ]
     },
     "metadata": {},
     "output_type": "display_data"
    }
   ],
   "source": [
    "confint(titanic.train)"
   ]
  },
  {
   "cell_type": "markdown",
   "metadata": {},
   "source": [
    "Пример расчета значимости общей модели:\n",
    "Статистика теста распределяется по хи-квадрат со степенями свободы, равными разнице в степенях свободы\n",
    "между текущей и нулевой моделью (т. е. количеством переменных-предикторов в модели).\n",
    "\n",
    "Значение р близко к 0, что указывает на сильно значимую модель."
   ]
  },
  {
   "cell_type": "code",
   "execution_count": 9,
   "metadata": {},
   "outputs": [
    {
     "data": {
      "text/html": [
       "1.89253939231105e-111"
      ],
      "text/latex": [
       "1.89253939231105e-111"
      ],
      "text/markdown": [
       "1.89253939231105e-111"
      ],
      "text/plain": [
       "[1] 1.892539e-111"
      ]
     },
     "metadata": {},
     "output_type": "display_data"
    }
   ],
   "source": [
    "with(titanic.train, pchisq(null.deviance - deviance, df.null - df.residual\n",
    ", lower.tail = FALSE))"
   ]
  },
  {
   "cell_type": "code",
   "execution_count": 10,
   "metadata": {},
   "outputs": [
    {
     "data": {
      "text/html": [
       "<table>\n",
       "<caption>A data.frame: 12 × 5</caption>\n",
       "<thead>\n",
       "\t<tr><th></th><th scope=col>identifier</th><th scope=col>location</th><th scope=col>period</th><th scope=col>counts</th><th scope=col>values</th></tr>\n",
       "\t<tr><th></th><th scope=col>&lt;int&gt;</th><th scope=col>&lt;fct&gt;</th><th scope=col>&lt;int&gt;</th><th scope=col>&lt;int&gt;</th><th scope=col>&lt;dbl&gt;</th></tr>\n",
       "</thead>\n",
       "<tbody>\n",
       "\t<tr><th scope=row>1</th><td>1</td><td>up    </td><td>1</td><td>28</td><td>9.052993</td></tr>\n",
       "\t<tr><th scope=row>2</th><td>1</td><td>up    </td><td>2</td><td>16</td><td>7.628488</td></tr>\n",
       "\t<tr><th scope=row>3</th><td>1</td><td>up    </td><td>3</td><td>22</td><td>9.573291</td></tr>\n",
       "\t<tr><th scope=row>5</th><td>2</td><td>down  </td><td>2</td><td> 5</td><td>5.228851</td></tr>\n",
       "\t<tr><th scope=row>6</th><td>2</td><td>down  </td><td>3</td><td>16</td><td>7.280457</td></tr>\n",
       "\t<tr><th scope=row>7</th><td>3</td><td>left  </td><td>1</td><td> 4</td><td>6.325933</td></tr>\n",
       "\t<tr><th scope=row>9</th><td>3</td><td>left  </td><td>3</td><td>22</td><td>7.536534</td></tr>\n",
       "\t<tr><th scope=row>10</th><td>4</td><td>up    </td><td>1</td><td>26</td><td>5.905481</td></tr>\n",
       "\t<tr><th scope=row>12</th><td>4</td><td>up    </td><td>3</td><td>15</td><td>6.006240</td></tr>\n",
       "\t<tr><th scope=row>13</th><td>5</td><td>center</td><td>1</td><td>14</td><td>6.294049</td></tr>\n",
       "\t<tr><th scope=row>14</th><td>5</td><td>center</td><td>2</td><td>14</td><td>9.960752</td></tr>\n",
       "\t<tr><th scope=row>15</th><td>5</td><td>center</td><td>3</td><td> 4</td><td>9.036762</td></tr>\n",
       "</tbody>\n",
       "</table>\n"
      ],
      "text/latex": [
       "A data.frame: 12 × 5\n",
       "\\begin{tabular}{r|lllll}\n",
       "  & identifier & location & period & counts & values\\\\\n",
       "  & <int> & <fct> & <int> & <int> & <dbl>\\\\\n",
       "\\hline\n",
       "\t1 & 1 & up     & 1 & 28 & 9.052993\\\\\n",
       "\t2 & 1 & up     & 2 & 16 & 7.628488\\\\\n",
       "\t3 & 1 & up     & 3 & 22 & 9.573291\\\\\n",
       "\t5 & 2 & down   & 2 &  5 & 5.228851\\\\\n",
       "\t6 & 2 & down   & 3 & 16 & 7.280457\\\\\n",
       "\t7 & 3 & left   & 1 &  4 & 6.325933\\\\\n",
       "\t9 & 3 & left   & 3 & 22 & 7.536534\\\\\n",
       "\t10 & 4 & up     & 1 & 26 & 5.905481\\\\\n",
       "\t12 & 4 & up     & 3 & 15 & 6.006240\\\\\n",
       "\t13 & 5 & center & 1 & 14 & 6.294049\\\\\n",
       "\t14 & 5 & center & 2 & 14 & 9.960752\\\\\n",
       "\t15 & 5 & center & 3 &  4 & 9.036762\\\\\n",
       "\\end{tabular}\n"
      ],
      "text/markdown": [
       "\n",
       "A data.frame: 12 × 5\n",
       "\n",
       "| <!--/--> | identifier &lt;int&gt; | location &lt;fct&gt; | period &lt;int&gt; | counts &lt;int&gt; | values &lt;dbl&gt; |\n",
       "|---|---|---|---|---|---|\n",
       "| 1 | 1 | up     | 1 | 28 | 9.052993 |\n",
       "| 2 | 1 | up     | 2 | 16 | 7.628488 |\n",
       "| 3 | 1 | up     | 3 | 22 | 9.573291 |\n",
       "| 5 | 2 | down   | 2 |  5 | 5.228851 |\n",
       "| 6 | 2 | down   | 3 | 16 | 7.280457 |\n",
       "| 7 | 3 | left   | 1 |  4 | 6.325933 |\n",
       "| 9 | 3 | left   | 3 | 22 | 7.536534 |\n",
       "| 10 | 4 | up     | 1 | 26 | 5.905481 |\n",
       "| 12 | 4 | up     | 3 | 15 | 6.006240 |\n",
       "| 13 | 5 | center | 1 | 14 | 6.294049 |\n",
       "| 14 | 5 | center | 2 | 14 | 9.960752 |\n",
       "| 15 | 5 | center | 3 |  4 | 9.036762 |\n",
       "\n"
      ],
      "text/plain": [
       "   identifier location period counts values  \n",
       "1  1          up       1      28     9.052993\n",
       "2  1          up       2      16     7.628488\n",
       "3  1          up       3      22     9.573291\n",
       "5  2          down     2       5     5.228851\n",
       "6  2          down     3      16     7.280457\n",
       "7  3          left     1       4     6.325933\n",
       "9  3          left     3      22     7.536534\n",
       "10 4          up       1      26     5.905481\n",
       "12 4          up       3      15     6.006240\n",
       "13 5          center   1      14     6.294049\n",
       "14 5          center   2      14     9.960752\n",
       "15 5          center   3       4     9.036762"
      ]
     },
     "metadata": {},
     "output_type": "display_data"
    }
   ],
   "source": [
    "# create unbalanced longitudinal (panel) data set\n",
    "set.seed(1234)\n",
    "df <- data.frame(identifier=rep(1:5, each=3),\n",
    "location=rep(c(\"up\", \"down\", \"left\", \"up\", \"center\"), each=3),\n",
    "period=rep(1:3, 5), counts=sample(35, 15, replace=TRUE),\n",
    "values=runif(15, 5, 10))[-c(4,8,11),]\n",
    "df"
   ]
  },
  {
   "cell_type": "code",
   "execution_count": 12,
   "metadata": {},
   "outputs": [
    {
     "data": {
      "text/html": [
       "<table>\n",
       "<caption>A data.frame: 5 × 8</caption>\n",
       "<thead>\n",
       "\t<tr><th></th><th scope=col>identifier</th><th scope=col>location</th><th scope=col>values.1</th><th scope=col>counts.1</th><th scope=col>values.2</th><th scope=col>counts.2</th><th scope=col>values.3</th><th scope=col>counts.3</th></tr>\n",
       "\t<tr><th></th><th scope=col>&lt;int&gt;</th><th scope=col>&lt;fct&gt;</th><th scope=col>&lt;dbl&gt;</th><th scope=col>&lt;int&gt;</th><th scope=col>&lt;dbl&gt;</th><th scope=col>&lt;int&gt;</th><th scope=col>&lt;dbl&gt;</th><th scope=col>&lt;int&gt;</th></tr>\n",
       "</thead>\n",
       "<tbody>\n",
       "\t<tr><th scope=row>1</th><td>1</td><td>up    </td><td>9.052993</td><td>28</td><td>7.628488</td><td>16</td><td>9.573291</td><td>22</td></tr>\n",
       "\t<tr><th scope=row>5</th><td>2</td><td>down  </td><td>      NA</td><td>NA</td><td>5.228851</td><td> 5</td><td>7.280457</td><td>16</td></tr>\n",
       "\t<tr><th scope=row>7</th><td>3</td><td>left  </td><td>6.325933</td><td> 4</td><td>      NA</td><td>NA</td><td>7.536534</td><td>22</td></tr>\n",
       "\t<tr><th scope=row>10</th><td>4</td><td>up    </td><td>5.905481</td><td>26</td><td>      NA</td><td>NA</td><td>6.006240</td><td>15</td></tr>\n",
       "\t<tr><th scope=row>13</th><td>5</td><td>center</td><td>6.294049</td><td>14</td><td>9.960752</td><td>14</td><td>9.036762</td><td> 4</td></tr>\n",
       "</tbody>\n",
       "</table>\n"
      ],
      "text/latex": [
       "A data.frame: 5 × 8\n",
       "\\begin{tabular}{r|llllllll}\n",
       "  & identifier & location & values.1 & counts.1 & values.2 & counts.2 & values.3 & counts.3\\\\\n",
       "  & <int> & <fct> & <dbl> & <int> & <dbl> & <int> & <dbl> & <int>\\\\\n",
       "\\hline\n",
       "\t1 & 1 & up     & 9.052993 & 28 & 7.628488 & 16 & 9.573291 & 22\\\\\n",
       "\t5 & 2 & down   &       NA & NA & 5.228851 &  5 & 7.280457 & 16\\\\\n",
       "\t7 & 3 & left   & 6.325933 &  4 &       NA & NA & 7.536534 & 22\\\\\n",
       "\t10 & 4 & up     & 5.905481 & 26 &       NA & NA & 6.006240 & 15\\\\\n",
       "\t13 & 5 & center & 6.294049 & 14 & 9.960752 & 14 & 9.036762 &  4\\\\\n",
       "\\end{tabular}\n"
      ],
      "text/markdown": [
       "\n",
       "A data.frame: 5 × 8\n",
       "\n",
       "| <!--/--> | identifier &lt;int&gt; | location &lt;fct&gt; | values.1 &lt;dbl&gt; | counts.1 &lt;int&gt; | values.2 &lt;dbl&gt; | counts.2 &lt;int&gt; | values.3 &lt;dbl&gt; | counts.3 &lt;int&gt; |\n",
       "|---|---|---|---|---|---|---|---|---|\n",
       "| 1 | 1 | up     | 9.052993 | 28 | 7.628488 | 16 | 9.573291 | 22 |\n",
       "| 5 | 2 | down   |       NA | NA | 5.228851 |  5 | 7.280457 | 16 |\n",
       "| 7 | 3 | left   | 6.325933 |  4 |       NA | NA | 7.536534 | 22 |\n",
       "| 10 | 4 | up     | 5.905481 | 26 |       NA | NA | 6.006240 | 15 |\n",
       "| 13 | 5 | center | 6.294049 | 14 | 9.960752 | 14 | 9.036762 |  4 |\n",
       "\n"
      ],
      "text/plain": [
       "   identifier location values.1 counts.1 values.2 counts.2 values.3 counts.3\n",
       "1  1          up       9.052993 28       7.628488 16       9.573291 22      \n",
       "5  2          down           NA NA       5.228851  5       7.280457 16      \n",
       "7  3          left     6.325933  4             NA NA       7.536534 22      \n",
       "10 4          up       5.905481 26             NA NA       6.006240 15      \n",
       "13 5          center   6.294049 14       9.960752 14       9.036762  4      "
      ]
     },
     "metadata": {},
     "output_type": "display_data"
    }
   ],
   "source": [
    "# reshape wide on time variable\n",
    "df.wide <- reshape(df, idvar=\"identifier\", timevar=\"period\",\n",
    "v.names=c(\"values\", \"counts\"), direction=\"wide\")\n",
    "df.wide"
   ]
  },
  {
   "cell_type": "markdown",
   "metadata": {},
   "source": [
    "R comes with built-in functionals, of which perhaps the most well-known are the apply family of functions. Here is a\n",
    "description of some of the most common apply functions:\n",
    "lapply() = takes a list as an argument and applies the specified function to the list.\n",
    "sapply() = the same as lapply() but attempts to simplify the output to a vector or a matrix.\n",
    "vapply() = a variant of sapply() in which the output object's type must be specified.\n",
    "mapply() = like lapply() but can pass multiple vectors as input to the specified function. Can be simplified\n",
    "like sapply() .\n",
    "Map() is an alias to mapply() with SIMPLIFY = FALSE .\n",
    "lapply()\n",
    "lapply() can be used with two different iterations:\n",
    "lapply(variable, FUN)\n",
    "lapply(seq_along(variable), FUN)"
   ]
  },
  {
   "cell_type": "code",
   "execution_count": 13,
   "metadata": {
    "collapsed": true
   },
   "outputs": [
    {
     "name": "stderr",
     "output_type": "stream",
     "text": [
      "Loading required package: RWeka\n",
      "Loading required package: tau\n",
      "\n",
      "Attaching package: 'tau'\n",
      "\n",
      "The following object is masked from 'package:readr':\n",
      "\n",
      "    tokenize\n",
      "\n",
      "Loading required package: tm\n",
      "Loading required package: NLP\n",
      "\n",
      "Attaching package: 'NLP'\n",
      "\n",
      "The following object is masked from 'package:ggplot2':\n",
      "\n",
      "    annotate\n",
      "\n",
      "Loading required package: tm.plugin.webmining\n",
      "\n",
      "Attaching package: 'tm.plugin.webmining'\n",
      "\n",
      "The following object is masked from 'package:magrittr':\n",
      "\n",
      "    extract\n",
      "\n",
      "The following object is masked from 'package:tidyr':\n",
      "\n",
      "    extract\n",
      "\n",
      "The following object is masked from 'package:base':\n",
      "\n",
      "    parse\n",
      "\n",
      "Loading required package: wordcloud\n",
      "Loading required package: RColorBrewer\n"
     ]
    }
   ],
   "source": [
    "require(RWeka)\n",
    "require(tau)\n",
    "require(tm)\n",
    "require(tm.plugin.webmining)\n",
    "require(wordcloud)"
   ]
  },
  {
   "cell_type": "code",
   "execution_count": 15,
   "metadata": {},
   "outputs": [],
   "source": [
    "lv.yahoonews <- WebCorpus(YahooNewsSource(\"LifeVantage\"))"
   ]
  },
  {
   "cell_type": "code",
   "execution_count": 16,
   "metadata": {},
   "outputs": [],
   "source": [
    "corpus <- c(lv.yahoonews)"
   ]
  },
  {
   "cell_type": "code",
   "execution_count": 17,
   "metadata": {},
   "outputs": [
    {
     "name": "stdout",
     "output_type": "stream",
     "text": [
      "<<WebCorpus>>\n",
      "Metadata:  corpus specific: 3, document level (indexed): 0\n",
      "Content:  documents: 0\n",
      "\n",
      "list()\n"
     ]
    }
   ],
   "source": [
    "inspect(corpus)\n",
    "wordlist <- c(\"lfvn\", \"lifevantage\", \"protandim\", \"truescience\", \"company\", \"fiscal\", \"nasdaq\")"
   ]
  },
  {
   "cell_type": "code",
   "execution_count": 19,
   "metadata": {},
   "outputs": [],
   "source": [
    "ds0.1g <- tm_map(corpus, content_transformer(tolower))\n",
    "ds1.1g <- tm_map(ds0.1g, content_transformer(removeWords), wordlist)\n",
    "ds1.1g <- tm_map(ds1.1g, content_transformer(removeWords), stopwords(\"english\"))\n",
    "ds2.1g <- tm_map(ds1.1g, stripWhitespace)\n",
    "ds3.1g <- tm_map(ds2.1g, removePunctuation)\n",
    "ds4.1g <- tm_map(ds3.1g, stemDocument)\n",
    "tdm.1g <- TermDocumentMatrix(ds4.1g)\n",
    "dtm.1g <- DocumentTermMatrix(ds4.1g)\n"
   ]
  },
  {
   "cell_type": "code",
   "execution_count": 20,
   "metadata": {},
   "outputs": [
    {
     "data": {
      "text/plain": [
       "NULL"
      ]
     },
     "metadata": {},
     "output_type": "display_data"
    },
    {
     "data": {
      "text/plain": [
       "NULL"
      ]
     },
     "metadata": {},
     "output_type": "display_data"
    },
    {
     "data": {
      "text/plain": [
       "NULL"
      ]
     },
     "metadata": {},
     "output_type": "display_data"
    },
    {
     "data": {
      "text/plain": [
       "NULL"
      ]
     },
     "metadata": {},
     "output_type": "display_data"
    },
    {
     "data": {
      "text/html": [
       "<strong>$skin</strong> = "
      ],
      "text/latex": [
       "\\textbf{\\$skin} = "
      ],
      "text/markdown": [
       "**$skin** = "
      ],
      "text/plain": [
       "$skin\n",
       "numeric(0)\n"
      ]
     },
     "metadata": {},
     "output_type": "display_data"
    },
    {
     "data": {
      "text/html": [
       "<strong>$scienc</strong> = "
      ],
      "text/latex": [
       "\\textbf{\\$scienc} = "
      ],
      "text/markdown": [
       "**$scienc** = "
      ],
      "text/plain": [
       "$scienc\n",
       "numeric(0)\n"
      ]
     },
     "metadata": {},
     "output_type": "display_data"
    },
    {
     "data": {
      "text/html": [
       "<strong>$product</strong> = "
      ],
      "text/latex": [
       "\\textbf{\\$product} = "
      ],
      "text/markdown": [
       "**$product** = "
      ],
      "text/plain": [
       "$product\n",
       "numeric(0)\n"
      ]
     },
     "metadata": {},
     "output_type": "display_data"
    },
    {
     "name": "stdout",
     "output_type": "stream",
     "text": [
      "<<TermDocumentMatrix (terms: 0, documents: 0)>>\n",
      "Non-/sparse entries: 0/0\n",
      "Sparsity           : 100%\n",
      "Maximal term length: 0\n",
      "Weighting          : term frequency (tf)\n",
      "Sample             :\n",
      "<0 x 0 matrix>\n"
     ]
    },
    {
     "ename": "ERROR",
     "evalue": "Error in termMatrix.1gram[5:10, 5:10]: подгруппа выходит за пределы\n",
     "output_type": "error",
     "traceback": [
      "Error in termMatrix.1gram[5:10, 5:10]: подгруппа выходит за пределы\nTraceback:\n"
     ]
    }
   ],
   "source": [
    "findFreqTerms(tdm.1g, 40)\n",
    "findFreqTerms(tdm.1g, 60)\n",
    "findFreqTerms(tdm.1g, 80)\n",
    "findFreqTerms(tdm.1g, 100)\n",
    "findAssocs(dtm.1g, \"skin\", .75)\n",
    "findAssocs(dtm.1g, \"scienc\", .5)\n",
    "findAssocs(dtm.1g, \"product\", .75)\n",
    "tdm89.1g <- removeSparseTerms(tdm.1g, 0.89)\n",
    "tdm9.1g <- removeSparseTerms(tdm.1g, 0.9)\n",
    "tdm91.1g <- removeSparseTerms(tdm.1g, 0.91)\n",
    "tdm92.1g <- removeSparseTerms(tdm.1g, 0.92)\n",
    "tdm2.1g <- tdm92.1g\n",
    "# Creates a Boolean matrix (counts # docs w/terms, not raw # terms)\n",
    "tdm3.1g <- inspect(tdm2.1g)\n",
    "tdm3.1g[tdm3.1g>=1] <- 1\n",
    "# Transform into a term-term adjacency matrix\n",
    "termMatrix.1gram <- tdm3.1g %*% t(tdm3.1g)\n",
    "# inspect terms numbered 5 to 10\n",
    "termMatrix.1gram[5:10,5:10]\n",
    "termMatrix.1gram[1:10,1:10]\n",
    "# Create a WordCloud to Visualize the Text Data ---------------------------\n",
    "notsparse <- tdm2.1g\n",
    "m = as.matrix(notsparse)\n",
    "v = sort(rowSums(m),decreasing=TRUE)\n",
    "d = data.frame(word = names(v),freq=v)\n",
    "# Create the word cloud\n",
    "pal = brewer.pal(9,\"BuPu\")\n",
    "wordcloud(words = d$word,\n",
    "freq = d$freq,\n",
    "scale = c(3,.8),\n",
    "random.order = F,\n",
    "colors = pal)"
   ]
  },
  {
   "cell_type": "code",
   "execution_count": null,
   "metadata": {},
   "outputs": [],
   "source": [
    "result <- as.numeric(readline(prompt = \"What is the result of 1+1?\"))\n",
    "while(result!=2){\n",
    "readline(prompt = \"Wrong answer. What is the result of 1+1?\")\n",
    "}"
   ]
  },
  {
   "cell_type": "code",
   "execution_count": null,
   "metadata": {},
   "outputs": [],
   "source": [
    "library(RMySQL)\n",
    "mydb <- dbConnect(MySQL(), user='user', password='password', dbname='dbname',host='127.0.0.1')\n",
    "queryString <- \"SELECT * FROM table1 t1 JOIN table2 t2 on t1.id=t2.id\"\n",
    "query <- dbSendQuery(mydb, queryString)\n",
    "data <- fetch(query, n=-1) # n=-1 to return all results"
   ]
  },
  {
   "cell_type": "code",
   "execution_count": null,
   "metadata": {},
   "outputs": [],
   "source": [
    "# get the file path of a CSV included in R's utils package\n",
    "csv_path <- system.file(\"misc\", \"exDIF.csv\", package = \"utils\")\n",
    "# path will vary based on installation location\n",
    "csv_path\n",
    "## [1] \"/Library/Frameworks/R.framework/Resources/library/utils/misc/exDIF.csv\"\n",
    "df <- read.csv(csv_path)\n",
    "df"
   ]
  },
  {
   "cell_type": "code",
   "execution_count": null,
   "metadata": {},
   "outputs": [],
   "source": [
    "df <- read.csv(file.choose())"
   ]
  },
  {
   "cell_type": "code",
   "execution_count": null,
   "metadata": {},
   "outputs": [],
   "source": [
    "mystring <- c('The number 5',\n",
    "'The number 8',\n",
    "'1 is the loneliest number',\n",
    "'Company, 3 is',\n",
    "'Git SSH tag is git@github.com',\n",
    "'My personal site is www.personal.org',\n",
    "'path/to/my/file')\n",
    "\n",
    "grep('5', mystring)"
   ]
  },
  {
   "cell_type": "code",
   "execution_count": null,
   "metadata": {},
   "outputs": [],
   "source": [
    "library(randomForest)\n",
    "rf <- randomForest(x = iris[, 1:4],\n",
    "y = iris$Species,\n",
    "ntree = 500,\n",
    "do.trace = 100)\n",
    "rf"
   ]
  },
  {
   "cell_type": "code",
   "execution_count": 21,
   "metadata": {},
   "outputs": [
    {
     "name": "stderr",
     "output_type": "stream",
     "text": [
      "Loading required package: bitops\n",
      "\n",
      "Attaching package: 'RCurl'\n",
      "\n",
      "The following object is masked from 'package:tidyr':\n",
      "\n",
      "    complete\n",
      "\n"
     ]
    },
    {
     "ename": "ERROR",
     "evalue": "Error in readHTMLTable(parsed_top)[[1]]: подгруппа выходит за пределы\n",
     "output_type": "error",
     "traceback": [
      "Error in readHTMLTable(parsed_top)[[1]]: подгруппа выходит за пределы\nTraceback:\n"
     ]
    }
   ],
   "source": [
    "library(RCurl)\n",
    "library(XML)\n",
    "url <- \"http://www.imdb.com/chart/top\"\n",
    "top <- getURL(url)\n",
    "parsed_top <- htmlParse(top, encoding = \"UTF-8\")\n",
    "top_table <- readHTMLTable(parsed_top)[[1]]\n",
    "head(top_table[1:10, 1:3])"
   ]
  }
 ],
 "metadata": {
  "kernelspec": {
   "display_name": "R",
   "language": "R",
   "name": "ir"
  },
  "language_info": {
   "codemirror_mode": "r",
   "file_extension": ".r",
   "mimetype": "text/x-r-source",
   "name": "R",
   "pygments_lexer": "r",
   "version": "3.6.2"
  }
 },
 "nbformat": 4,
 "nbformat_minor": 4
}
