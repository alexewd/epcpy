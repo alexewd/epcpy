{
 "cells": [
  {
   "cell_type": "markdown",
   "metadata": {},
   "source": [
    "Есть список a = [1, 1, 63, 2, 34, 187, 3, 5, 8, 47, 13, 21, 34, 55, 89, 5, 187,  2, 983]\n",
    "\n",
    "Выведите все элементы, которые меньше 37. А потом - напишите функцию, которая выводит, переданный функции в параметре список - без повторяющихся элементов. (дубликатов)!"
   ]
  },
  {
   "cell_type": "code",
   "execution_count": 18,
   "metadata": {},
   "outputs": [
    {
     "name": "stdout",
     "output_type": "stream",
     "text": [
      "[1, 1, 2, 34, 3, 5, 8, 13, 21, 34, 5, 2]\n"
     ]
    }
   ],
   "source": [
    "a = [1, 1, 63, 2, 34, 187, 3, 5, 8, 47, 13, 21, 34, 55, 89, 5, 187,  2, 983]\n",
    "nl = []\n",
    "for i in a:\n",
    "    if i < 37:\n",
    "        nl.append(i)\n",
    "print(nl)\n"
   ]
  },
  {
   "cell_type": "code",
   "execution_count": 19,
   "metadata": {},
   "outputs": [
    {
     "name": "stdout",
     "output_type": "stream",
     "text": [
      "[1, 1, 2, 34, 3, 5, 8, 13, 21, 34, 5, 2]\n"
     ]
    }
   ],
   "source": [
    "for j in nl:     \n",
    "    if j not in nl:\n",
    "        nl.append(i)\n",
    "print(nl)"
   ]
  },
  {
   "cell_type": "code",
   "execution_count": 22,
   "metadata": {},
   "outputs": [
    {
     "data": {
      "text/plain": [
       "[1, 2, 34, 3, 5, 8, 13, 21]"
      ]
     },
     "execution_count": 22,
     "metadata": {},
     "output_type": "execute_result"
    }
   ],
   "source": [
    "a = [1, 1, 63, 2, 34, 187, 3, 5, 8, 47, 13, 21, 34, 55, 89, 5, 187,  2, 983]\n",
    "def f(l):\n",
    "    n = []\n",
    "    for i in l:\n",
    "        if (i not in n) and (i < 37):\n",
    "            n.append(i)\n",
    "    return n\n",
    "f(a)"
   ]
  },
  {
   "cell_type": "code",
   "execution_count": 20,
   "metadata": {},
   "outputs": [],
   "source": [
    "a = [1, 1, 63, 2, 34, 187, 3, 5, 8, 47, 13, 21, 34, 55, 89, 5, 187,  2, 983]\n",
    "def f(l):\n",
    "    n = []\n",
    "    for i in l:\n",
    "        if i not in n:\n",
    "            n.append(i)\n",
    "    return n"
   ]
  },
  {
   "cell_type": "code",
   "execution_count": 21,
   "metadata": {},
   "outputs": [
    {
     "data": {
      "text/plain": [
       "[1, 63, 2, 34, 187, 3, 5, 8, 47, 13, 21, 55, 89, 983]"
      ]
     },
     "execution_count": 21,
     "metadata": {},
     "output_type": "execute_result"
    }
   ],
   "source": [
    "f(a)"
   ]
  }
 ],
 "metadata": {
  "kernelspec": {
   "display_name": "Python 3",
   "language": "python",
   "name": "python3"
  },
  "language_info": {
   "codemirror_mode": {
    "name": "ipython",
    "version": 3
   },
   "file_extension": ".py",
   "mimetype": "text/x-python",
   "name": "python",
   "nbconvert_exporter": "python",
   "pygments_lexer": "ipython3",
   "version": "3.7.1"
  }
 },
 "nbformat": 4,
 "nbformat_minor": 4
}
