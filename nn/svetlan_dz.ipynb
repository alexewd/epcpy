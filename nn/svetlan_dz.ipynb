{
 "cells": [
  {
   "cell_type": "code",
   "execution_count": 77,
   "metadata": {},
   "outputs": [
    {
     "name": "stdout",
     "output_type": "stream",
     "text": [
      "19\n",
      "p r w y\n",
      " u\n"
     ]
    }
   ],
   "source": [
    "# new_str = 'pink red white black'\n",
    "new_str = 'p r w y x z w t y u'\n",
    "\n",
    "print(len(new_str))\n",
    "if len(new_str) >= 5:\n",
    "    print(new_str[0:7])\n",
    "    print(new_str[17:])\n",
    "\n",
    "else:\n",
    "    print(new_str[0] * len(new_str))\n"
   ]
  },
  {
   "cell_type": "code",
   "execution_count": 2,
   "metadata": {},
   "outputs": [
    {
     "data": {
      "text/plain": [
       "[45, 60, 105]"
      ]
     },
     "execution_count": 2,
     "metadata": {},
     "output_type": "execute_result"
    }
   ],
   "source": [
    "# С помощью анонимной функции извлеките из списка числа, делимые на 15.\n",
    "\n",
    "# Вариант решения\n",
    "nums = [45, 55, 60, 37, 100, 105, 220]\n",
    "result = list(filter(lambda x: not x % 15, nums))\n",
    "result"
   ]
  },
  {
   "cell_type": "code",
   "execution_count": 80,
   "metadata": {},
   "outputs": [
    {
     "data": {
      "text/plain": [
       "[1, 5, 11]"
      ]
     },
     "execution_count": 80,
     "metadata": {},
     "output_type": "execute_result"
    }
   ],
   "source": [
    "s = 'atsd tf  rgt'\n",
    "def find(s, ch):\n",
    "    return [i for i, ltr in enumerate(s) if ltr == ch] \n",
    "\n",
    "find(s, \"t\")"
   ]
  },
  {
   "cell_type": "code",
   "execution_count": 52,
   "metadata": {
    "collapsed": true
   },
   "outputs": [
    {
     "name": "stdout",
     "output_type": "stream",
     "text": [
      "11\n",
      "[0, 1, 2, 3, 4, 5, 6, 7, 8, 9, 10, 11]\n",
      "[0, 1, 2, 3, 4, 5, 6, 7, 8, 9, 10, 11]\n",
      "[0, 1, 2, 3, 4, 5, 6, 7, 8, 9, 10, 11]\n",
      "[0, 1, 2, 3, 4, 5, 6, 7, 8, 9, 10, 11]\n",
      "[0, 1, 2, 3, 4, 5, 6, 7, 8, 9, 10, 11]\n",
      "[0, 1, 2, 3, 4, 5, 6, 7, 8, 9, 10, 11]\n",
      "[0, 1, 2, 3, 4, 5, 6, 7, 8, 9, 10, 11]\n",
      "[0, 1, 2, 3, 4, 5, 6, 7, 8, 9, 10, 11]\n",
      "[0, 1, 2, 3, 4, 5, 6, 7, 8, 9, 10, 11]\n",
      "[0, 1, 2, 3, 4, 5, 6, 7, 8, 9, 10, 11]\n",
      "[0, 1, 2, 3, 4, 5, 6, 7, 8, 9, 10, 11]\n",
      "[0, 1, 2, 3, 4, 5, 6, 7, 8, 9, 10, 11]\n"
     ]
    }
   ],
   "source": [
    "s = 'atsd tf  rgt'\n",
    "def find(s):\n",
    "    n = len(s)-1\n",
    "    for i in s:\n",
    "        if item == s[len(s)-1]:\n",
    "            print([i for i, ltr in enumerate(s)] )\n",
    "\n",
    "\n",
    "print(n)\n",
    "find(s)"
   ]
  },
  {
   "cell_type": "code",
   "execution_count": 54,
   "metadata": {},
   "outputs": [
    {
     "data": {
      "text/plain": [
       "[(0, 1), (1, 2), (2, 3)]"
      ]
     },
     "execution_count": 54,
     "metadata": {},
     "output_type": "execute_result"
    }
   ],
   "source": [
    "import re\n",
    "test = \"ooottat\"\n",
    "[(i.start(), i.end()) for i in re.finditer('o', test)]\n"
   ]
  },
  {
   "cell_type": "code",
   "execution_count": 55,
   "metadata": {},
   "outputs": [
    {
     "data": {
      "text/plain": [
       "[(0, 3)]"
      ]
     },
     "execution_count": 55,
     "metadata": {},
     "output_type": "execute_result"
    }
   ],
   "source": [
    "[(i.start(), i.end()) for i in re.finditer('o+', test)]"
   ]
  },
  {
   "cell_type": "code",
   "execution_count": 7,
   "metadata": {
    "collapsed": true
   },
   "outputs": [
    {
     "name": "stdout",
     "output_type": "stream",
     "text": [
      "(0, 10)\n",
      "(1, 20)\n",
      "(2, 30)\n",
      "(3, 40)\n",
      "(0, 'h')\n",
      "(1, 'e')\n",
      "(2, 'l')\n",
      "(3, 'l')\n",
      "(4, 'o')\n"
     ]
    }
   ],
   "source": [
    "# Встроенная в Python функция enumerate() применяется для итерируемых коллекций\n",
    "# (строки, списки, словари и др.) и создает объект, который генерирует кортежи,\n",
    "# состоящие из двух элементов - индекса элемента и самого элемента.\n",
    "\n",
    "a = [10, 20, 30, 40]\n",
    "for i in enumerate(a):\n",
    "    print(i)\n",
    " \n",
    "# (0, 10)\n",
    "# (1, 20)\n",
    "# (2, 30)\n",
    "# (3, 40)\n",
    "\n",
    "b = \"hello\"\n",
    "for i in enumerate(b):\n",
    "    print(i)\n",
    "\n",
    "# (0, 'h')\n",
    "# (1, 'e')\n",
    "# В случае словарей нумеруются ключи:\n",
    "\n",
    "c = {1: 'a', 2: 'b', 3: 'c'}\n",
    "for i in enumerate(c):\n",
    "    print(i)\n",
    "... \n",
    "(0, 1)\n",
    "(1, 2)\n",
    "(2, 3)"
   ]
  },
  {
   "cell_type": "code",
   "execution_count": null,
   "metadata": {},
   "outputs": [],
   "source": []
  },
  {
   "cell_type": "code",
   "execution_count": 8,
   "metadata": {},
   "outputs": [
    {
     "data": {
      "text/plain": [
       "[7, 8, 13]"
      ]
     },
     "execution_count": 8,
     "metadata": {},
     "output_type": "execute_result"
    }
   ],
   "source": [
    "s = 'atsd tfoo  rgot'\n",
    "def find(str, ch):\n",
    "    for i, ltr in enumerate(str):\n",
    "        if ltr == ch: yield i\n",
    "            \n",
    "list(find(s, \"o\"))"
   ]
  },
  {
   "cell_type": "code",
   "execution_count": 6,
   "metadata": {},
   "outputs": [
    {
     "name": "stdout",
     "output_type": "stream",
     "text": [
      "[7, 8, 12]\n"
     ]
    }
   ],
   "source": [
    "s = 'atsd tfoo rgot'\n",
    "\n",
    "def finds(ch,string1):\n",
    "    pos = []\n",
    "    for i in range(len(string1)):\n",
    "        if ch == string1[i]:\n",
    "            pos.append(i)\n",
    "    print(pos)\n",
    "finds('o',s)\n"
   ]
  },
  {
   "cell_type": "code",
   "execution_count": null,
   "metadata": {},
   "outputs": [],
   "source": [
    "from random import random\n",
    "\n",
    "# Заполнение списка случайными числами от 0 до 4.\n",
    "# Количество элементов в списке = 15.\n",
    "# Для заполнения используется генератор списков.\n",
    "a = [int(random()*5) for i in range(15)]\n",
    "print(a)\n",
    "\n",
    "# Список преобразуется в множество.\n",
    "# В нем все элементы уникальны (не повторяются).\n",
    "a_set = set(a)\n",
    "\n",
    "most_common = None # наиболее часто встречаемое значение\n",
    "qty_most_common = 0 # его количество\n",
    "\n",
    "# в цикле перебираются элементы (item) множества\n",
    "for item in a_set:\n",
    "    # переменной qty присваивается количество случаев\n",
    "    # item в списке a\n",
    "    qty = a.count(item)\n",
    "    # Если это количество больше максимального,\n",
    "    if qty > qty_most_common:\n",
    "        qty_most_common = qty # то заменяем на него максимальное,\n",
    "        most_common = item # запоминаем само значение\n",
    "\n",
    "# вывод значения на экран\n",
    "print(most_common)"
   ]
  },
  {
   "cell_type": "markdown",
   "metadata": {},
   "source": [
    "Программа считает количество строк, слов и букв в переданном ей файле. \n",
    "\n",
    "Имя файла должно передаваться в качестве первого аргумента после имени самого скрипта. Например, вызов скрипта в Linux через командную оболочку выглядит примерно так:\n",
    "\n",
    "python3 words.py text.txt"
   ]
  },
  {
   "cell_type": "code",
   "execution_count": null,
   "metadata": {},
   "outputs": [],
   "source": [
    "import sys\n",
    " \n",
    "# argv - список аргументов командрой строки\n",
    "# argv[0] - имя самого файла-скрипта\n",
    "# argv[1] - первый аргумент, здесь - имя обрабатываемого файла\n",
    "fname = sys.argv[1]\n",
    " \n",
    "# Переменные для подсчета строк, слов и букв.\n",
    "lines = 0\n",
    "words = 0\n",
    "letters = 0\n",
    " \n",
    "# Функция open() открывает переданный ей файл\n",
    "# и возвращает объект, итерация по которому\n",
    "# позволяет последовательно извлекать строки файла.\n",
    "for line in open(fname):\n",
    "    # Была получена очередная строка.\n",
    "    # Она присваивается переменной line.\n",
    "    # Счетчик строк следует увеличить на 1.\n",
    "    lines += 1\n",
    " \n",
    "    # С помощью len определяется количество символов в строке\n",
    "    # и добавляется к счетчику букв.\n",
    "    letters += len(line)\n",
    " \n",
    "    # Код ниже считает количество слов в текущей строке.\n",
    " \n",
    "    # Флаг, сигнализирующий нахождение за пределами слова.\n",
    "    pos = 'out'\n",
    " \n",
    "    # Цикл перебора строки по символам.\n",
    "    for letter in line:\n",
    "        # Если очередной символ не пробел, а флаг в значении \"вне слова\",\n",
    "        # то значит начинается новое слово.\n",
    "        if letter != ' ' and pos == 'out':\n",
    "            # Поэтому надо увеличить счетчик слов на 1,\n",
    "            words += 1\n",
    "            # а флаг поменять на значение \"внутри слова\".\n",
    "            pos = 'in'\n",
    "        # Если очередной символ пробел,\n",
    "        elif letter == ' ':\n",
    "            # то следует установить флаг в значение \"вне слова\".\n",
    "            pos = 'out'\n",
    " \n",
    "# Вывод количеств строк, слов и символов на экран.\n",
    "print(\"Lines:\", lines)\n",
    "print(\"Words:\", words)\n",
    "print(\"Letters:\", letters)"
   ]
  },
  {
   "cell_type": "code",
   "execution_count": 5,
   "metadata": {},
   "outputs": [
    {
     "name": "stdout",
     "output_type": "stream",
     "text": [
      "[10, -15, 3, 8, 0, 9, -6, 13, -1, 5]\n",
      "[1, -1, 1, 1, 0, 1, -1, 1, -1, 1]\n"
     ]
    }
   ],
   "source": [
    "# Дан список целых чисел. Заменить отрицательные на -1, положительные - на число 1, ноль оставить без изменений.\n",
    "\n",
    "# 1-й вариант - заполнение нового списка в зависимости от значений исходного:\n",
    "\n",
    "listOrigin = [10, -15, 3, 8, 0, 9, -6, 13, -1, 5]\n",
    "listMask = []\n",
    "for item in listOrigin:\n",
    "    if item > 0:\n",
    "        listMask.append(1)\n",
    "    elif item < 0:\n",
    "        listMask.append(-1)\n",
    "    else:\n",
    "        listMask.append(0)\n",
    "\n",
    "print(listOrigin)\n",
    "print(listMask)"
   ]
  },
  {
   "cell_type": "code",
   "execution_count": null,
   "metadata": {},
   "outputs": [],
   "source": [
    "from sklearn.datasets import load_iris\n",
    "iris = load_iris()\n",
    "\n",
    "from matplotlib import pyplot as plt\n",
    "\n",
    "# The indices of the features that we are plotting\n",
    "x_index = 0\n",
    "y_index = 1\n",
    "\n",
    "# this formatter will label the colorbar with the correct target names\n",
    "formatter = plt.FuncFormatter(lambda i, *args: iris.target_names[int(i)])\n",
    "\n",
    "plt.figure(figsize=(5, 4))\n",
    "plt.scatter(iris.data[:, x_index], iris.data[:, y_index], c=iris.target)\n",
    "plt.colorbar(ticks=[0, 1, 2], format=formatter)\n",
    "plt.xlabel(iris.feature_names[x_index])\n",
    "plt.ylabel(iris.feature_names[y_index])\n",
    "\n",
    "plt.tight_layout()\n",
    "plt.show()"
   ]
  },
  {
   "cell_type": "code",
   "execution_count": null,
   "metadata": {},
   "outputs": [],
   "source": [
    "# уникальн\n",
    "L = [1, 1, 63, 2, 34, 187, 3, 5, 8, 47, 13, 21, 34, 55, 89, 5, 187,  2, 983]\n",
    "def f(l):\n",
    "    n = []\n",
    "    for i in l:\n",
    "        if (i < 37):            \n",
    "            n.append(i)\n",
    "    for j in n:\n",
    "        if \n",
    "        \n",
    "        \n",
    "    print(n)\n",
    "f(L)"
   ]
  },
  {
   "cell_type": "code",
   "execution_count": 3,
   "metadata": {},
   "outputs": [
    {
     "ename": "NameError",
     "evalue": "name 'common' is not defined",
     "output_type": "error",
     "traceback": [
      "\u001b[1;31m---------------------------------------------------------------------------\u001b[0m",
      "\u001b[1;31mNameError\u001b[0m                                 Traceback (most recent call last)",
      "\u001b[1;32m<ipython-input-3-ef8081176cd6>\u001b[0m in \u001b[0;36m<module>\u001b[1;34m\u001b[0m\n\u001b[0;32m     11\u001b[0m \u001b[0mlongest\u001b[0m \u001b[1;33m=\u001b[0m \u001b[0mmax\u001b[0m\u001b[1;33m(\u001b[0m\u001b[0mwords\u001b[0m\u001b[1;33m,\u001b[0m \u001b[0mkey\u001b[0m\u001b[1;33m=\u001b[0m\u001b[0mlen\u001b[0m\u001b[1;33m)\u001b[0m\u001b[1;33m\u001b[0m\u001b[1;33m\u001b[0m\u001b[0m\n\u001b[0;32m     12\u001b[0m \u001b[1;33m\u001b[0m\u001b[0m\n\u001b[1;32m---> 13\u001b[1;33m \u001b[0mprint\u001b[0m\u001b[1;33m(\u001b[0m\u001b[0mcommon\u001b[0m\u001b[1;33m,\u001b[0m \u001b[0mlongest\u001b[0m\u001b[1;33m)\u001b[0m\u001b[1;33m\u001b[0m\u001b[1;33m\u001b[0m\u001b[0m\n\u001b[0m",
      "\u001b[1;31mNameError\u001b[0m: name 'common' is not defined"
     ]
    }
   ],
   "source": [
    "# Напишите программу, которая принимает текст и выводит два слова: наиболее часто встречающееся и самое длинное.\n",
    "\n",
    "# Вариант решения\n",
    "import collections\n",
    "\n",
    "text = 'lorem ipsum dolor sit amet amet amet'\n",
    "words = text.split()\n",
    "counter = collections.Counter(words)\n",
    "most_common, occurrences = counter.most_common()[0]\n",
    "\n",
    "longest = max(words, key=len)\n",
    "\n",
    "print(common, longest)"
   ]
  },
  {
   "cell_type": "code",
   "execution_count": null,
   "metadata": {},
   "outputs": [],
   "source": [
    "# Дана строка. Показать номера символов, совпадающих с последним символом строки.\n",
    "# - скажите, это какой-то метод или сами прописываем решение?"
   ]
  },
  {
   "cell_type": "code",
   "execution_count": 41,
   "metadata": {},
   "outputs": [
    {
     "name": "stdout",
     "output_type": "stream",
     "text": [
      "1\n",
      "1\n",
      "1\n"
     ]
    }
   ],
   "source": [
    "s = 'atsd tf  rgt'\n",
    "for item in s:\n",
    "#     t = s[len(s)-1]\n",
    "    if item == s[len(s)-1]:\n",
    "        print(s.index(t))\n",
    "    "
   ]
  },
  {
   "cell_type": "code",
   "execution_count": 20,
   "metadata": {},
   "outputs": [
    {
     "data": {
      "text/plain": [
       "int"
      ]
     },
     "execution_count": 20,
     "metadata": {},
     "output_type": "execute_result"
    }
   ],
   "source": [
    "def greeting(a: str) -> str:\n",
    "    return a**2\n",
    "\n",
    "fos = greeting(2)\n",
    "type(fos)"
   ]
  },
  {
   "cell_type": "code",
   "execution_count": 14,
   "metadata": {},
   "outputs": [
    {
     "data": {
      "text/plain": [
       "4"
      ]
     },
     "execution_count": 14,
     "metadata": {},
     "output_type": "execute_result"
    }
   ],
   "source": [
    "def greet(a):\n",
    "    return a**2\n",
    "greet(2)"
   ]
  }
 ],
 "metadata": {
  "kernelspec": {
   "display_name": "Python 3",
   "language": "python",
   "name": "python3"
  },
  "language_info": {
   "codemirror_mode": {
    "name": "ipython",
    "version": 3
   },
   "file_extension": ".py",
   "mimetype": "text/x-python",
   "name": "python",
   "nbconvert_exporter": "python",
   "pygments_lexer": "ipython3",
   "version": "3.7.1"
  }
 },
 "nbformat": 4,
 "nbformat_minor": 4
}
