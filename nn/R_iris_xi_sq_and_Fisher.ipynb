{
 "cells": [
  {
   "cell_type": "markdown",
   "metadata": {},
   "source": [
    "[https://www.statsandr.com/blog/chi-square-test-of-independence-in-r/]\n",
    "Тест Фишера\n",
    "[https://www.statsandr.com/blog/fisher-s-exact-test-in-r-independence-test-for-a-small-sample/]\n",
    "Чтобы кратко повторить то, что было сказано в этой статье, критерий независимости хи-квадрат проверяет, существует ли связь между двумя категориальными переменными. Нулевые и альтернативные гипотезы:\n",
    "##### H0\n",
    ": переменные независимы, нет никакой связи между двумя категориальными переменными. Знание значения одной переменной не помогает предсказать значение другой переменной\n",
    "##### H1\n",
    ": переменные являются зависимыми, существует связь между двумя категориальными переменными. Знание значения одной переменной помогает предсказать значение другой переменной\n",
    "Критерий независимости хи-квадрат работает путем сравнения наблюдаемых частот (то есть частот, наблюдаемых в вашей выборке) с ожидаемыми частотами, если не было никакой связи между двумя категориальными переменными (таким образом, ожидаемые частоты, если нулевая гипотеза была верной)."
   ]
  },
  {
   "cell_type": "code",
   "execution_count": 2,
   "metadata": {},
   "outputs": [],
   "source": [
    "suppressWarnings(suppressMessages(library(\"rvest\")))\n",
    "suppressWarnings(suppressMessages(library(\"tidyverse\")))\n",
    "suppressWarnings(suppressMessages(library(\"magrittr\")))\n",
    "suppressWarnings(suppressMessages(library(\"XML\")))\n",
    "suppressWarnings(suppressMessages(library(\"dplyr\")))\n",
    "suppressWarnings(suppressMessages(library(\"lubridate\")))\n",
    "suppressWarnings(suppressMessages(library(\"dplyr\")))\n",
    "suppressWarnings(suppressMessages(library(\"plotly\")))\n",
    "suppressWarnings(suppressMessages(library(\"ggplot2\")))"
   ]
  },
  {
   "cell_type": "markdown",
   "metadata": {},
   "source": [
    "Для нашего примера, давайте повторно используем набор данных, представленный в статье « Описательная статистика в R ». Этот набор данных является хорошо известным iris набором данных, слегка улучшенным. Поскольку существует только одна категориальная переменная, а критерий хи-квадрат требует двух категориальных переменных, мы добавили переменную, size которая соответствует, small если длина лепестка меньше, чем медиана всех цветов, и big противном случае:"
   ]
  },
  {
   "cell_type": "code",
   "execution_count": 3,
   "metadata": {},
   "outputs": [],
   "source": [
    "dat <- iris\n",
    "dat$size <- ifelse(dat$Sepal.Length < median(dat$Sepal.Length),  \"small\", \"big\")\n"
   ]
  },
  {
   "cell_type": "code",
   "execution_count": 4,
   "metadata": {},
   "outputs": [
    {
     "data": {
      "text/plain": [
       "            \n",
       "             big small\n",
       "  setosa       1    49\n",
       "  versicolor  29    21\n",
       "  virginica   47     3"
      ]
     },
     "metadata": {},
     "output_type": "display_data"
    }
   ],
   "source": [
    "# Теперь мы создадим таблицу сопряженности двух переменных Speciesи sizeс помощью table()функции:\n",
    "table(dat$Species, dat$size)"
   ]
  },
  {
   "cell_type": "markdown",
   "metadata": {},
   "source": [
    "Таблица сопряженности дает наблюдаемое количество случаев в каждой подгруппе. Например, есть только один большой цветок setosa, в то время как в наборе данных 49 маленьких цветов setosa.\n",
    "Хорошей практикой также является составление графика для визуального представления данных:"
   ]
  },
  {
   "cell_type": "code",
   "execution_count": 5,
   "metadata": {},
   "outputs": [
    {
     "data": {
      "image/png": "[encoded data removed]",
      "text/plain": [
       "plot without title"
      ]
     },
     "metadata": {},
     "output_type": "display_data"
    }
   ],
   "source": [
    "library(ggplot2)\n",
    "\n",
    "ggplot(dat) +\n",
    "  aes(x = Species, fill = size) +\n",
    "  geom_bar() +\n",
    "  scale_fill_hue() +\n",
    "  theme_minimal()"
   ]
  },
  {
   "cell_type": "code",
   "execution_count": 4,
   "metadata": {},
   "outputs": [
    {
     "data": {
      "text/plain": [
       "\n",
       "\tPearson's Chi-squared test\n",
       "\n",
       "data:  table(dat$Species, dat$size)\n",
       "X-squared = 86.035, df = 2, p-value < 2.2e-16\n"
      ]
     },
     "metadata": {},
     "output_type": "display_data"
    }
   ],
   "source": [
    "# Критерий хи-квадрат независимости в R\n",
    "# Для этого примера мы собираемся проверить в R, есть ли связь между переменными Speciesи size.\n",
    "# Для этого используется chisq.test()функция:\n",
    "test <- chisq.test(table(dat$Species, dat$size))\n",
    "test"
   ]
  },
  {
   "cell_type": "code",
   "execution_count": 5,
   "metadata": {},
   "outputs": [
    {
     "data": {
      "text/html": [
       "<strong>X-squared:</strong> 86.0345134317737"
      ],
      "text/latex": [
       "\\textbf{X-squared:} 86.0345134317737"
      ],
      "text/markdown": [
       "**X-squared:** 86.0345134317737"
      ],
      "text/plain": [
       "X-squared \n",
       " 86.03451 "
      ]
     },
     "metadata": {},
     "output_type": "display_data"
    },
    {
     "data": {
      "text/html": [
       "2.07894395533151e-19"
      ],
      "text/latex": [
       "2.07894395533151e-19"
      ],
      "text/markdown": [
       "2.07894395533151e-19"
      ],
      "text/plain": [
       "[1] 2.078944e-19"
      ]
     },
     "metadata": {},
     "output_type": "display_data"
    }
   ],
   "source": [
    "# Все, что вам нужно, появляется в этом выводе: название теста, какие переменные были использованы,\n",
    "# статистика теста, степени свободы и p-значение теста.\n",
    "# Вы также можете получить тестовая статистика и p-значение\n",
    "\n",
    "test$statistic # test statistic\n",
    "## X-squared \n",
    "##  86.03451\n",
    "test$p.value # p-value"
   ]
  },
  {
   "cell_type": "markdown",
   "metadata": {},
   "source": [
    "Вывод и интерпретация\n",
    "Из вывода и из test$p.valueмы видим, что\n",
    "p -значение меньше уровня значимости 5%. Как и любой другой статистический тест, если\n",
    "p-значение меньше уровня значимости, мы можем отвергнуть нулевую гипотезу.\n",
    "В нашем контексте отклонение нулевой гипотезы для критерия независимости хи-квадрат означает, что существует существенная связь между видом и размером. Следовательно, знание значения одной переменной помогает предсказать значение другой переменной."
   ]
  },
  {
   "attachments": {
    "fisherexact.png": {
     "image/png": "[encoded data removed]"
    }
   },
   "cell_type": "markdown",
   "metadata": {},
   "source": [
    "Как рассчитать точный критерий Фишера?\n",
    "Допустим, изучается зависимость частоты рождения детей с врожденными пороками развития (ВПР) от курения матери во время беременности. Для этого выбраны две группы беременных женщин, одна из которых - экспериментальная, состоящая из 80 женщин, куривших в первом триместре беременности, а вторая - группа сравнения, включающая 90 женщин, ведущих здоровый образ жизни на протяжении всей беременности. Число случаев ВПР плода, установленных по данным УЗИ в экспериментальной группе, составило 10, в группе сравнения - 2.\n",
    "\n",
    "Вначале составляем четырехпольную таблицу сопряженности:\n",
    "\n",
    " \tИсход есть (Наличие ВПР)\tИсхода нет (Отсутствие ВПР)\tВсего\n",
    "Фактор риска есть (Курящие)\tA = 10\tB = 70\t(A + B) = 80\n",
    "Фактор риска отсутствует (Некурящие)\tC = 2\tD = 88\t(C + D) = 90\n",
    "Всего\t(A + C) = 12\t(B + D) = 158\t(A + B + C + D) = 170\n",
    "Точный критерий Фишера рассчитывается по следующей формуле:\n",
    "![fisherexact.png](attachment:fisherexact.png)\n",
    "\n",
    "где N - общее число исследуемых в двух группах; ! - факториал, представляющий собой произведение числа на последовательность чисел, каждое из которых меньше предыдущего на 1 (например, 4! = 4 · 3 · 2 · 1)\n",
    "\n",
    "В результате вычислений находим, что P = 0,0137."
   ]
  },
  {
   "cell_type": "code",
   "execution_count": 27,
   "metadata": {},
   "outputs": [
    {
     "data": {
      "text/plain": [
       "\n",
       "\tFisher's Exact Test for Count Data\n",
       "\n",
       "data:  mut\n",
       "p-value = 0.01747\n",
       "alternative hypothesis: true odds ratio is not equal to 1\n",
       "95 percent confidence interval:\n",
       " 0.0185731 0.8775718\n",
       "sample estimates:\n",
       "odds ratio \n",
       " 0.1792683 \n"
      ]
     },
     "metadata": {},
     "output_type": "display_data"
    }
   ],
   "source": [
    "ftest <- fisher.test(mut)\n",
    "ftest"
   ]
  },
  {
   "cell_type": "markdown",
   "metadata": {},
   "source": [
    "Достоинством метода является соответствие полученного критерия точному значению уровня значимости p. То есть, полученное в нашем примере значение 0,0137 и есть уровень значимости различий сравниваемых групп по частоте развития ВПР плода. Необходимо лишь сопоставить данное число с критическим уровнем значимости, обычно принимаемым в медицинских исследованиях за 0,05.\n",
    "\n",
    "Если значение точного критерия Фишера больше критического, принимается нулевая гипотеза и делается вывод об отсутствии статистически значимых различий частоты исхода в зависимости от наличия фактора риска.\n",
    "Если значение точного критерия Фишера меньше критического, принимается альтернативная гипотеза и делается вывод о наличии статистически значимых различий частоты исхода в зависимости от воздействия фактора риска.\n",
    "В нашем примере P < 0,05, в связи с чем делаем вывод о наличии прямой взаимосвязи курения и вероятности развития ВПР плода. Частота возникновения врожденной патологии у детей курящих женщин статистически значимо выше, чем у некурящих."
   ]
  },
  {
   "cell_type": "code",
   "execution_count": 25,
   "metadata": {},
   "outputs": [
    {
     "data": {
      "text/html": [
       "<table>\n",
       "<tbody>\n",
       "\t<tr><td>80</td><td>10</td></tr>\n",
       "\t<tr><td>90</td><td> 2</td></tr>\n",
       "</tbody>\n",
       "</table>\n"
      ],
      "text/latex": [
       "\\begin{tabular}{ll}\n",
       "\t 80 & 10\\\\\n",
       "\t 90 &  2\\\\\n",
       "\\end{tabular}\n"
      ],
      "text/markdown": [
       "\n",
       "| 80 | 10 |\n",
       "| 90 |  2 |\n",
       "\n"
      ],
      "text/plain": [
       "     [,1] [,2]\n",
       "[1,] 80   10  \n",
       "[2,] 90    2  "
      ]
     },
     "metadata": {},
     "output_type": "display_data"
    }
   ],
   "source": [
    "mut <- matrix(c(80,90,10,2),nrow=2,ncol=2)\n",
    "mut"
   ]
  },
  {
   "cell_type": "markdown",
   "metadata": {},
   "source": [
    "##### Fisher test\n",
    "[http://medstatistic.ru/theory/fisher_exact.html]\n",
    "Например, имеется 205 мутаций в гене р53 из 514 опухолей, в то время как 96 опухолей IV стадии имеют 86 мутаций. Мы ожидаем, что 96 опухолей IV стадии должны иметь 96 х 205/514 = 38 мутаций, в то время как мы наблюдали 86. Значительно ли это отличается от общей мутации?"
   ]
  },
  {
   "cell_type": "markdown",
   "metadata": {},
   "source": [
    "Как рассчитать точный критерий Фишера?\n",
    "Допустим, изучается зависимость частоты рождения детей с врожденными пороками развития (ВПР) от курения матери во время беременности. Для этого выбраны две группы беременных женщин, одна из которых - экспериментальная, состоящая из 80 женщин, куривших в первом триместре беременности, а вторая - группа сравнения, включающая 90 женщин, ведущих здоровый образ жизни на протяжении всей беременности. Число случаев ВПР плода, установленных по данным УЗИ в экспериментальной группе, составило 10, в группе сравнения - 2.\n",
    "\n",
    "Вначале составляем четырехпольную таблицу сопряженности:\n",
    "\n",
    " \tИсход есть (Наличие ВПР)\tИсхода нет (Отсутствие ВПР)\tВсего\n",
    "Фактор риска есть (Курящие)\tA = 10\tB = 70\t(A + B) = 80\n",
    "Фактор риска отсутствует (Некурящие)\tC = 2\tD = 88\t(C + D) = 90\n",
    "Всего\t(A + C) = 12\t(B + D) = 158\t(A + B + C + D) = 170\n",
    "Точный критерий Фишера рассчитывается по следующей формуле:\n",
    "\n",
    "\n",
    "где N - общее число исследуемых в двух группах; ! - факториал, представляющий собой произведение числа на последовательность чисел, каждое из которых меньше предыдущего на 1 (например, 4! = 4 · 3 · 2 · 1)\n",
    "\n",
    "В результате вычислений находим, что P = 0,0137."
   ]
  },
  {
   "cell_type": "code",
   "execution_count": 23,
   "metadata": {},
   "outputs": [
    {
     "data": {
      "text/html": [
       "<table>\n",
       "<tbody>\n",
       "\t<tr><td>86</td><td>38</td></tr>\n",
       "\t<tr><td>96</td><td>96</td></tr>\n",
       "</tbody>\n",
       "</table>\n"
      ],
      "text/latex": [
       "\\begin{tabular}{ll}\n",
       "\t 86 & 38\\\\\n",
       "\t 96 & 96\\\\\n",
       "\\end{tabular}\n"
      ],
      "text/markdown": [
       "\n",
       "| 86 | 38 |\n",
       "| 96 | 96 |\n",
       "\n"
      ],
      "text/plain": [
       "     [,1] [,2]\n",
       "[1,] 86   38  \n",
       "[2,] 96   96  "
      ]
     },
     "metadata": {},
     "output_type": "display_data"
    }
   ],
   "source": [
    "sam <- matrix(c(86,96,38,96),nrow=2,ncol=2)\n",
    "sam"
   ]
  },
  {
   "cell_type": "code",
   "execution_count": 21,
   "metadata": {},
   "outputs": [
    {
     "data": {
      "text/plain": [
       "\n",
       "\tFisher's Exact Test for Count Data\n",
       "\n",
       "data:  sam\n",
       "p-value = 0.0007254\n",
       "alternative hypothesis: true odds ratio is not equal to 1\n",
       "95 percent confidence interval:\n",
       " 1.372334 3.755052\n",
       "sample estimates:\n",
       "odds ratio \n",
       "  2.257284 \n"
      ]
     },
     "metadata": {},
     "output_type": "display_data"
    }
   ],
   "source": [
    "ftest <- fisher.test(sam)\n",
    "ftest"
   ]
  },
  {
   "cell_type": "markdown",
   "metadata": {},
   "source": [
    "Чтобы выполнить точный критерий Фишера в R, используйте fisher.test()функцию , аналогичную той, которую вы выполняли бы для критерия хи-квадрат:\n",
    "\n",
    "test <- fisher.test(dat)\n",
    "test\n",
    "Fisher's Exact Test for Count Data \n",
    "data:  dat\n",
    "p-value = 0.02098\n",
    "alternative hypothesis: true odds ratio is not equal to 1\n",
    "95 percent confidence interval:\n",
    "1.449481      Inf\n",
    "sample estimates:\n",
    "odds ratio \n",
    "Inf\n",
    "Наиболее важным на выходе является \n",
    "p-значение. Вы также можете получить\n",
    "p-значение с:\n",
    "\n",
    "test$p.value\n",
    "## [1] 0.02097902\n",
    "Вывод и интерпретация\n",
    "Из вывода и из test$p.valueмы видим, что\n",
    "p-значение меньше уровня значимости 5%. Как и любой другой статистический тест, если\n",
    "p-значение меньше уровня значимости, мы можем отвергнуть нулевую гипотезу.\n",
    "\n",
    "В нашем контексте отклонение нулевой гипотезы точного критерия независимости Фишера означает, что существует значительная связь между двумя категориальными переменными (привычки курить и быть спортсменом или нет). Следовательно, знание значения одной переменной помогает предсказать значение другой переменной."
   ]
  }
 ],
 "metadata": {
  "kernelspec": {
   "display_name": "R",
   "language": "R",
   "name": "ir"
  },
  "language_info": {
   "codemirror_mode": "r",
   "file_extension": ".r",
   "mimetype": "text/x-r-source",
   "name": "R",
   "pygments_lexer": "r",
   "version": "3.6.1"
  }
 },
 "nbformat": 4,
 "nbformat_minor": 2
}
