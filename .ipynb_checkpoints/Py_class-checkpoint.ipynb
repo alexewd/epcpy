{
 "cells": [
  {
   "cell_type": "markdown",
   "metadata": {},
   "source": [
    "#### Class"
   ]
  },
  {
   "cell_type": "code",
   "execution_count": 2,
   "metadata": {},
   "outputs": [
    {
     "name": "stdout",
     "output_type": "stream",
     "text": [
      "Irisha\n",
      "2\n",
      "3.0\n"
     ]
    }
   ],
   "source": [
    "# First class\n",
    "class Goat():\n",
    "\n",
    "    def __init__(self, name, age, wight):\n",
    "\n",
    "        self.name = name\n",
    "        self.age = age\n",
    "        self.wight = wight\n",
    "\n",
    "    def show(self):\n",
    "\n",
    "        print(self.name)\n",
    "        print(self.age)\n",
    "        print(self.wight)\n",
    "\n",
    "\n",
    "goat = Goat('Irisha',2,3.0)\n",
    "\n",
    "# goat.name = 'Julia'\n",
    "# goat.age = 2\n",
    "# goat.wight = 2.0\n",
    "\n",
    "goat.show()\n",
    "\n"
   ]
  },
  {
   "cell_type": "code",
   "execution_count": null,
   "metadata": {},
   "outputs": [],
   "source": []
  }
 ],
 "metadata": {
  "kernelspec": {
   "display_name": "Python 3",
   "language": "python",
   "name": "python3"
  },
  "language_info": {
   "codemirror_mode": {
    "name": "ipython",
    "version": 3
   },
   "file_extension": ".py",
   "mimetype": "text/x-python",
   "name": "python",
   "nbconvert_exporter": "python",
   "pygments_lexer": "ipython3",
   "version": "3.7.4"
  }
 },
 "nbformat": 4,
 "nbformat_minor": 2
}
