{
 "cells": [
  {
   "cell_type": "code",
   "execution_count": null,
   "metadata": {},
   "outputs": [],
   "source": [
    "library(stringi) \n",
    "x <- c(\"The first string\", ' The <font size=\"6\">second string</font>') \n",
    "\n",
    "x <- stri_replace_all(x, \"\", regex = \"<.*?>\")   # remove html tags \n",
    "x <- stri_trim(x)                               # strip surrounding whitespace\n",
    "x <- stri_trans_tolower(x)                      # transform to lower case \n",
    "x\n",
    "# \n",
    "library(corpustools)\n",
    "tc <- create_tcorpus(sotu_texts, doc_column = \"id\") \n",
    "hits <- tc$search_features('\"freedom americ*\"~5')\n",
    "kwic <- tc$kwic(hits, ntokens = 3) \n",
    "head(kwic$kwic, 3)"
   ]
  }
 ],
 "metadata": {
  "kernelspec": {
   "display_name": "R",
   "language": "R",
   "name": "ir"
  },
  "language_info": {
   "codemirror_mode": "r",
   "file_extension": ".r",
   "mimetype": "text/x-r-source",
   "name": "R",
   "pygments_lexer": "r",
   "version": "3.6.1"
  }
 },
 "nbformat": 4,
 "nbformat_minor": 2
}
