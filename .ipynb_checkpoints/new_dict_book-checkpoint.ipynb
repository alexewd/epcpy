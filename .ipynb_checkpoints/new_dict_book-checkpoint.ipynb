{
 "cells": [
  {
   "cell_type": "markdown",
   "metadata": {},
   "source": [
    "#### Словари"
   ]
  },
  {
   "cell_type": "code",
   "execution_count": null,
   "metadata": {},
   "outputs": [],
   "source": [
    "L = ['zero', 'one', 'two', 'three', 'four', 'five', 'six']\n",
    "Y = []\n",
    "for item in L:\n",
    "\tY.append(item+'U')\n",
    "\n",
    "print(Y)\n",
    "\n",
    "numbers = range(10)\n",
    "new_dict_for = {}\n",
    "\n",
    "# Add values to `new_dict` using for loop\n",
    "for n in numbers:\n",
    "    if n%2==0:\n",
    "        new_dict_for[n] = n**2\n",
    "\n",
    "print(new_dict_for)\n",
    "# Use dictionary comprehension\n",
    "new_dict_comp = {n:n**2 for n in numbers if n%2 == 0}\n",
    "\n",
    "print(new_dict_comp)\n",
    "# \n",
    "# Initialize `fahrenheit` dictionary \n",
    "fahrenheit = {'t1':-30, 't2':-20, 't3':-10, 't4':0}\n",
    "\n",
    "#Get the corresponding `celsius` values\n",
    "celsius = list(map(lambda x: (float(5)/9)*(x-32), fahrenheit.values()))\n",
    "\n",
    "#Create the `celsius` dictionary\n",
    "celsius_dict = dict(zip(fahrenheit.keys(), celsius))\n",
    "\n",
    "print(celsius_dict)\n",
    "# \n",
    "\n",
    "# ********************\n",
    "a = {'one': 1, 'two': 'to', 'three': 3.0, 'four': [4,4.0]}\n",
    "print(a.keys())\n",
    "print(a.values())\n",
    "dict1 = {'a': 1, 'b': 2, 'c': 3, 'd': 4, 'e': 5}\n",
    "# Double each value in the dictionary\n",
    "double_dict1 = {k:v*2 for (k,v) in dict1.items()}\n",
    "print(double_dict1)\n",
    "# print(a)\n",
    "# # a.clear()\n",
    "# # del a # \n",
    "# # Update a dictionary\n",
    "# a['one'] = 1.0 \n",
    "# # \n",
    "# # Delete a single element\n",
    "# del a['one'] \n",
    "# print(a)"
   ]
  }
 ],
 "metadata": {
  "kernelspec": {
   "display_name": "Python 3",
   "language": "python",
   "name": "python3"
  },
  "language_info": {
   "codemirror_mode": {
    "name": "ipython",
    "version": 3
   },
   "file_extension": ".py",
   "mimetype": "text/x-python",
   "name": "python",
   "nbconvert_exporter": "python",
   "pygments_lexer": "ipython3",
   "version": "3.7.4"
  }
 },
 "nbformat": 4,
 "nbformat_minor": 2
}
