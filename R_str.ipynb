{
 "cells": [
  {
   "cell_type": "code",
   "execution_count": 3,
   "metadata": {},
   "outputs": [
    {
     "ename": "ERROR",
     "evalue": "Error in parse(text = x, srcfile = src): <text>:1:1: неожиданный ввод\n1: %R\n    ^\n",
     "output_type": "error",
     "traceback": [
      "Error in parse(text = x, srcfile = src): <text>:1:1: неожиданный ввод\n1: %R\n    ^\nTraceback:\n"
     ]
    }
   ],
   "source": [
    "%%R"
   ]
  },
  {
   "cell_type": "code",
   "execution_count": 1,
   "metadata": {},
   "outputs": [
    {
     "name": "stderr",
     "output_type": "stream",
     "text": [
      "Warning message:\n",
      "\"package 'stringi' was built under R version 3.6.2\""
     ]
    },
    {
     "data": {
      "text/html": [
       "<ol class=list-inline>\n",
       "\t<li>'the first string'</li>\n",
       "\t<li>'the second string'</li>\n",
       "</ol>\n"
      ],
      "text/latex": [
       "\\begin{enumerate*}\n",
       "\\item 'the first string'\n",
       "\\item 'the second string'\n",
       "\\end{enumerate*}\n"
      ],
      "text/markdown": [
       "1. 'the first string'\n",
       "2. 'the second string'\n",
       "\n",
       "\n"
      ],
      "text/plain": [
       "[1] \"the first string\"  \"the second string\""
      ]
     },
     "metadata": {},
     "output_type": "display_data"
    },
    {
     "ename": "ERROR",
     "evalue": "Error in library(corpustools): there is no package called 'corpustools'\n",
     "output_type": "error",
     "traceback": [
      "Error in library(corpustools): there is no package called 'corpustools'\nTraceback:\n",
      "1. library(corpustools)"
     ]
    }
   ],
   "source": [
    "library(stringi) \n",
    "x <- c(\"The first string\", ' The <font size=\"6\">second string</font>') \n",
    "\n",
    "x <- stri_replace_all(x, \"\", regex = \"<.*?>\")   # remove html tags \n",
    "x <- stri_trim(x)                               # strip surrounding whitespace\n",
    "x <- stri_trans_tolower(x)                      # transform to lower case \n",
    "x\n",
    "# \n",
    "library(corpustools)\n",
    "tc <- create_tcorpus(sotu_texts, doc_column = \"id\") \n",
    "hits <- tc$search_features('\"freedom americ*\"~5')\n",
    "kwic <- tc$kwic(hits, ntokens = 3) \n",
    "head(kwic$kwic, 3)"
   ]
  },
  {
   "cell_type": "code",
   "execution_count": null,
   "metadata": {},
   "outputs": [],
   "source": []
  }
 ],
 "metadata": {
  "kernelspec": {
   "display_name": "R",
   "language": "R",
   "name": "ir"
  },
  "language_info": {
   "codemirror_mode": "r",
   "file_extension": ".r",
   "mimetype": "text/x-r-source",
   "name": "R",
   "pygments_lexer": "r",
   "version": "3.6.1"
  }
 },
 "nbformat": 4,
 "nbformat_minor": 2
}
